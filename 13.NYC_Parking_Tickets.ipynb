{
 "cells": [
  {
   "cell_type": "markdown",
   "metadata": {},
   "source": [
    "## NYC Parking Tickets"
   ]
  },
  {
   "cell_type": "code",
   "execution_count": 1,
   "metadata": {},
   "outputs": [],
   "source": [
    "from pyspark.sql import SparkSession\n",
    "spark = SparkSession \\\n",
    "    .builder \\\n",
    "    .appName(\"NYC Psrking Tickets\") \\\n",
    "    .getOrCreate()"
   ]
  },
  {
   "cell_type": "code",
   "execution_count": 2,
   "metadata": {},
   "outputs": [
    {
     "data": {
      "text/html": [
       "\n",
       "            <div>\n",
       "                <p><b>SparkSession - in-memory</b></p>\n",
       "                \n",
       "        <div>\n",
       "            <p><b>SparkContext</b></p>\n",
       "\n",
       "            <p><a href=\"http://ip-30-0-31-67.ec2.internal:4040\">Spark UI</a></p>\n",
       "\n",
       "            <dl>\n",
       "              <dt>Version</dt>\n",
       "                <dd><code>v2.4.0</code></dd>\n",
       "              <dt>Master</dt>\n",
       "                <dd><code>yarn</code></dd>\n",
       "              <dt>AppName</dt>\n",
       "                <dd><code>NYC Psrking Tickets</code></dd>\n",
       "            </dl>\n",
       "        </div>\n",
       "        \n",
       "            </div>\n",
       "        "
      ],
      "text/plain": [
       "<pyspark.sql.session.SparkSession at 0x7f16e8b50be0>"
      ]
     },
     "execution_count": 2,
     "metadata": {},
     "output_type": "execute_result"
    }
   ],
   "source": [
    "# SparkSession object has created.\n",
    "spark"
   ]
  },
  {
   "cell_type": "markdown",
   "metadata": {},
   "source": [
    "### Create DataFrame"
   ]
  },
  {
   "cell_type": "code",
   "execution_count": 3,
   "metadata": {},
   "outputs": [
    {
     "data": {
      "text/plain": [
       "DataFrame[_c0: string, _c1: string, _c2: string, _c3: string, _c4: string, _c5: string, _c6: string, _c7: string, _c8: string, _c9: string]"
      ]
     },
     "execution_count": 3,
     "metadata": {},
     "output_type": "execute_result"
    }
   ],
   "source": [
    "# Data can be convert into DataFrame\n",
    "# Datafram can be created by calling read method on spark object\n",
    "\n",
    "df = spark.read.format(\"csv\").load(\"/common_folder/nyc_parking/Parking_Violations_Issued_-_Fiscal_Year_2017.csv\")\n",
    "df"
   ]
  },
  {
   "cell_type": "code",
   "execution_count": 4,
   "metadata": {},
   "outputs": [
    {
     "name": "stdout",
     "output_type": "stream",
     "text": [
      "root\n",
      " |-- _c0: string (nullable = true)\n",
      " |-- _c1: string (nullable = true)\n",
      " |-- _c2: string (nullable = true)\n",
      " |-- _c3: string (nullable = true)\n",
      " |-- _c4: string (nullable = true)\n",
      " |-- _c5: string (nullable = true)\n",
      " |-- _c6: string (nullable = true)\n",
      " |-- _c7: string (nullable = true)\n",
      " |-- _c8: string (nullable = true)\n",
      " |-- _c9: string (nullable = true)\n",
      "\n"
     ]
    }
   ],
   "source": [
    "# printSchema returns schema in tree format\n",
    "\n",
    "df.printSchema()"
   ]
  },
  {
   "cell_type": "code",
   "execution_count": 5,
   "metadata": {},
   "outputs": [
    {
     "name": "stdout",
     "output_type": "stream",
     "text": [
      "+--------------+--------+------------------+----------+--------------+-----------------+------------+------------------+---------------+--------------+\n",
      "|           _c0|     _c1|               _c2|       _c3|           _c4|              _c5|         _c6|               _c7|            _c8|           _c9|\n",
      "+--------------+--------+------------------+----------+--------------+-----------------+------------+------------------+---------------+--------------+\n",
      "|Summons Number|Plate ID|Registration State|Issue Date|Violation Code|Vehicle Body Type|Vehicle Make|Violation Precinct|Issuer Precinct|Violation Time|\n",
      "|    5092469481| GZH7067|                NY|2016-07-10|             7|             SUBN|       TOYOT|                 0|              0|         0143A|\n",
      "+--------------+--------+------------------+----------+--------------+-----------------+------------+------------------+---------------+--------------+\n",
      "only showing top 2 rows\n",
      "\n"
     ]
    }
   ],
   "source": [
    "df.show(2)"
   ]
  },
  {
   "cell_type": "code",
   "execution_count": 6,
   "metadata": {},
   "outputs": [
    {
     "name": "stdout",
     "output_type": "stream",
     "text": [
      "+--------------+--------+------------------+----------+--------------+-----------------+------------+------------------+---------------+--------------+\n",
      "|Summons_Number|Plate_ID|Registration_State|Issue_Date|Violation_Code|Vehicle_Body_Type|Vehicle_Make|Violation_Precinct|Issuer_Precinct|Violation_Time|\n",
      "+--------------+--------+------------------+----------+--------------+-----------------+------------+------------------+---------------+--------------+\n",
      "|Summons Number|Plate ID|Registration State|Issue Date|Violation Code|Vehicle Body Type|Vehicle Make|Violation Precinct|Issuer Precinct|Violation Time|\n",
      "|    5092469481| GZH7067|                NY|2016-07-10|             7|             SUBN|       TOYOT|                 0|              0|         0143A|\n",
      "|    5092451658| GZH7067|                NY|2016-07-08|             7|             SUBN|       TOYOT|                 0|              0|         0400P|\n",
      "|    4006265037| FZX9232|                NY|2016-08-23|             5|             SUBN|        FORD|                 0|              0|         0233P|\n",
      "|    8478629828| 66623ME|                NY|2017-06-14|            47|             REFG|       MITSU|                14|             14|         1120A|\n",
      "|    7868300310| 37033JV|                NY|2016-11-21|            69|             DELV|       INTER|                13|             13|         0555P|\n",
      "|    5096917368| FZD8593|                NY|2017-06-13|             7|             SUBN|       ME/BE|                 0|              0|         0852P|\n",
      "|    1413609545|  X20DCM|                NJ|2016-08-03|            40|              SDN|       TOYOT|                71|             71|         0215A|\n",
      "|    4628525523|  326SF9|                MA|2016-12-21|            36|               UT|         BMW|                 0|              0|         0758A|\n",
      "|    4627113330| HCA5464|                NY|2016-11-21|            36|             SUBN|       DODGE|                 0|              0|         1005A|\n",
      "|    4006478550| VAD7274|                VA|2016-10-05|             5|               4D|         BMW|                 0|              0|         0845A|\n",
      "|    1407740258| 2513JMG|                NY|2017-01-11|            78|             DELV|       FRUEH|               106|            106|         0015A|\n",
      "|    8009901763| 13657MD|                NY|2016-09-27|            19|             DELV|       KENWO|                18|             18|         0707A|\n",
      "|    4625926610|N102911C|                NY|2016-10-27|            36|              VAN|        FORD|                 0|              0|         1022A|\n",
      "|    1416492320| FGR5997|                NY|2016-09-30|            21|              SDN|       NISSA|                44|             44|         1150A|\n",
      "|    1413656420|T672371C|                NY|2017-02-04|            40|             TAXI|       TOYOT|                73|             73|         0525A|\n",
      "|    7959486440| GYF2052|                NY|2016-07-07|            71|             4DSD|       VOLKS|               120|            120|         0645P|\n",
      "|    5093620865| AD80228|                AZ|2016-09-24|             7|               TK|        FORD|                 0|              0|         1122A|\n",
      "|    8480309064| 51771JW|                NY|2017-01-26|            64|              VAN|       INTER|                17|             17|         0256P|\n",
      "|    1416638830|  GLP367|                NY|2017-04-30|            20|             SUBN|       DODGE|                17|             17|         1232A|\n",
      "+--------------+--------+------------------+----------+--------------+-----------------+------------+------------------+---------------+--------------+\n",
      "only showing top 20 rows\n",
      "\n"
     ]
    }
   ],
   "source": [
    "# Rename the column\n",
    "from pyspark.sql.functions import col\n",
    "\n",
    "df = df.select(col(\"_c0\").alias(\"Summons_Number\"), col(\"_c1\").alias(\"Plate_ID\"), col(\"_c2\").alias(\"Registration_State\"), col(\"_c3\").alias(\"Issue_Date\"), col(\"_c4\").alias(\"Violation_Code\"), col(\"_c5\").alias(\"Vehicle_Body_Type\"), col(\"_c6\").alias(\"Vehicle_Make\"), col(\"_c7\").alias(\"Violation_Precinct\"), col(\"_c8\").alias(\"Issuer_Precinct\"), col(\"_c9\").alias(\"Violation_Time\"))\n",
    "df.show()"
   ]
  },
  {
   "cell_type": "code",
   "execution_count": 7,
   "metadata": {},
   "outputs": [
    {
     "name": "stdout",
     "output_type": "stream",
     "text": [
      "root\n",
      " |-- Summons_Number: string (nullable = true)\n",
      " |-- Plate_ID: string (nullable = true)\n",
      " |-- Registration_State: string (nullable = true)\n",
      " |-- Issue_Date: string (nullable = true)\n",
      " |-- Violation_Code: string (nullable = true)\n",
      " |-- Vehicle_Body_Type: string (nullable = true)\n",
      " |-- Vehicle_Make: string (nullable = true)\n",
      " |-- Violation_Precinct: string (nullable = true)\n",
      " |-- Issuer_Precinct: string (nullable = true)\n",
      " |-- Violation_Time: string (nullable = true)\n",
      "\n"
     ]
    }
   ],
   "source": [
    "df.printSchema()"
   ]
  },
  {
   "cell_type": "code",
   "execution_count": 8,
   "metadata": {},
   "outputs": [
    {
     "name": "stdout",
     "output_type": "stream",
     "text": [
      "+---------------------+\n",
      "|count(Summons_Number)|\n",
      "+---------------------+\n",
      "|             10803029|\n",
      "+---------------------+\n",
      "\n"
     ]
    }
   ],
   "source": [
    "# here you can check how many records present in the DataFrame.\n",
    "\n",
    "from pyspark.sql.functions import count\n",
    "df.select(count(\"Summons_Number\")).show()"
   ]
  },
  {
   "cell_type": "code",
   "execution_count": 9,
   "metadata": {},
   "outputs": [],
   "source": [
    "df1 =df.limit(1)"
   ]
  },
  {
   "cell_type": "code",
   "execution_count": 10,
   "metadata": {},
   "outputs": [
    {
     "name": "stdout",
     "output_type": "stream",
     "text": [
      "+--------------+--------+------------------+----------+--------------+-----------------+------------+------------------+---------------+--------------+\n",
      "|Summons_Number|Plate_ID|Registration_State|Issue_Date|Violation_Code|Vehicle_Body_Type|Vehicle_Make|Violation_Precinct|Issuer_Precinct|Violation_Time|\n",
      "+--------------+--------+------------------+----------+--------------+-----------------+------------+------------------+---------------+--------------+\n",
      "|Summons Number|Plate ID|Registration State|Issue Date|Violation Code|Vehicle Body Type|Vehicle Make|Violation Precinct|Issuer Precinct|Violation Time|\n",
      "+--------------+--------+------------------+----------+--------------+-----------------+------------+------------------+---------------+--------------+\n",
      "\n"
     ]
    }
   ],
   "source": [
    "df1.show()"
   ]
  },
  {
   "cell_type": "code",
   "execution_count": 10,
   "metadata": {},
   "outputs": [],
   "source": [
    "df2 = df.subtract(df1)"
   ]
  },
  {
   "cell_type": "code",
   "execution_count": 12,
   "metadata": {},
   "outputs": [
    {
     "name": "stdout",
     "output_type": "stream",
     "text": [
      "+--------------+--------+------------------+----------+--------------+-----------------+------------+------------------+---------------+--------------+\n",
      "|Summons_Number|Plate_ID|Registration_State|Issue_Date|Violation_Code|Vehicle_Body_Type|Vehicle_Make|Violation_Precinct|Issuer_Precinct|Violation_Time|\n",
      "+--------------+--------+------------------+----------+--------------+-----------------+------------+------------------+---------------+--------------+\n",
      "|    1256447584| HFE6434|                NY|2016-08-13|            19|             SUBN|       VOLKS|               110|            976|         1225A|\n",
      "|    1259387525|  8AAED7|                CT|2017-01-27|            38|              SDN|       DODGE|                 1|              0|         0625P|\n",
      "+--------------+--------+------------------+----------+--------------+-----------------+------------+------------------+---------------+--------------+\n",
      "only showing top 2 rows\n",
      "\n"
     ]
    }
   ],
   "source": [
    "df2.show(2)"
   ]
  },
  {
   "cell_type": "code",
   "execution_count": 13,
   "metadata": {},
   "outputs": [
    {
     "name": "stdout",
     "output_type": "stream",
     "text": [
      "root\n",
      " |-- Summons_Number: string (nullable = true)\n",
      " |-- Plate_ID: string (nullable = true)\n",
      " |-- Registration_State: string (nullable = true)\n",
      " |-- Issue_Date: string (nullable = true)\n",
      " |-- Violation_Code: string (nullable = true)\n",
      " |-- Vehicle_Body_Type: string (nullable = true)\n",
      " |-- Vehicle_Make: string (nullable = true)\n",
      " |-- Violation_Precinct: string (nullable = true)\n",
      " |-- Issuer_Precinct: string (nullable = true)\n",
      " |-- Violation_Time: string (nullable = true)\n",
      "\n"
     ]
    }
   ],
   "source": [
    "df2.printSchema()"
   ]
  },
  {
   "cell_type": "code",
   "execution_count": 11,
   "metadata": {},
   "outputs": [],
   "source": [
    "# How to change data type of the column?\n",
    "# Use col method and pass column name and use cast method and pass datatype.\n",
    "# Here we are creating another column and changing the data type string to bigint.\n",
    "# Changing column types\n",
    "df2 = df2.withColumn(\"Summons_Number\", col(\"Summons_Number\").cast(\"bigint\"))"
   ]
  },
  {
   "cell_type": "code",
   "execution_count": 15,
   "metadata": {},
   "outputs": [
    {
     "name": "stdout",
     "output_type": "stream",
     "text": [
      "root\n",
      " |-- Summons_Number: long (nullable = true)\n",
      " |-- Plate_ID: string (nullable = true)\n",
      " |-- Registration_State: string (nullable = true)\n",
      " |-- Issue_Date: string (nullable = true)\n",
      " |-- Violation_Code: string (nullable = true)\n",
      " |-- Vehicle_Body_Type: string (nullable = true)\n",
      " |-- Vehicle_Make: string (nullable = true)\n",
      " |-- Violation_Precinct: string (nullable = true)\n",
      " |-- Issuer_Precinct: string (nullable = true)\n",
      " |-- Violation_Time: string (nullable = true)\n",
      "\n"
     ]
    }
   ],
   "source": [
    "df2.printSchema()"
   ]
  },
  {
   "cell_type": "code",
   "execution_count": 12,
   "metadata": {},
   "outputs": [],
   "source": [
    "from pyspark.sql.functions import *"
   ]
  },
  {
   "cell_type": "code",
   "execution_count": 13,
   "metadata": {},
   "outputs": [],
   "source": [
    "df2 = df2.withColumn(\"Issue_Date\", to_timestamp(df2['Issue_Date'] , 'yyyy-MM-dd').alias('Issue_Date'))"
   ]
  },
  {
   "cell_type": "code",
   "execution_count": 18,
   "metadata": {},
   "outputs": [
    {
     "name": "stdout",
     "output_type": "stream",
     "text": [
      "root\n",
      " |-- Summons_Number: long (nullable = true)\n",
      " |-- Plate_ID: string (nullable = true)\n",
      " |-- Registration_State: string (nullable = true)\n",
      " |-- Issue_Date: timestamp (nullable = true)\n",
      " |-- Violation_Code: string (nullable = true)\n",
      " |-- Vehicle_Body_Type: string (nullable = true)\n",
      " |-- Vehicle_Make: string (nullable = true)\n",
      " |-- Violation_Precinct: string (nullable = true)\n",
      " |-- Issuer_Precinct: string (nullable = true)\n",
      " |-- Violation_Time: string (nullable = true)\n",
      "\n"
     ]
    }
   ],
   "source": [
    "df2.printSchema()"
   ]
  },
  {
   "cell_type": "code",
   "execution_count": 14,
   "metadata": {},
   "outputs": [],
   "source": [
    "df2 = df2.withColumn(\"Violation_Code\", col(\"Violation_Code\").cast(\"int\"))"
   ]
  },
  {
   "cell_type": "code",
   "execution_count": 20,
   "metadata": {},
   "outputs": [
    {
     "name": "stdout",
     "output_type": "stream",
     "text": [
      "root\n",
      " |-- Summons_Number: long (nullable = true)\n",
      " |-- Plate_ID: string (nullable = true)\n",
      " |-- Registration_State: string (nullable = true)\n",
      " |-- Issue_Date: timestamp (nullable = true)\n",
      " |-- Violation_Code: integer (nullable = true)\n",
      " |-- Vehicle_Body_Type: string (nullable = true)\n",
      " |-- Vehicle_Make: string (nullable = true)\n",
      " |-- Violation_Precinct: string (nullable = true)\n",
      " |-- Issuer_Precinct: string (nullable = true)\n",
      " |-- Violation_Time: string (nullable = true)\n",
      "\n"
     ]
    }
   ],
   "source": [
    "df2.printSchema()"
   ]
  },
  {
   "cell_type": "code",
   "execution_count": 15,
   "metadata": {},
   "outputs": [],
   "source": [
    "df2 = df2.withColumn(\"Violation_Precinct\", col(\"Violation_Precinct\").cast(\"int\"))"
   ]
  },
  {
   "cell_type": "code",
   "execution_count": 22,
   "metadata": {},
   "outputs": [
    {
     "name": "stdout",
     "output_type": "stream",
     "text": [
      "root\n",
      " |-- Summons_Number: long (nullable = true)\n",
      " |-- Plate_ID: string (nullable = true)\n",
      " |-- Registration_State: string (nullable = true)\n",
      " |-- Issue_Date: timestamp (nullable = true)\n",
      " |-- Violation_Code: integer (nullable = true)\n",
      " |-- Vehicle_Body_Type: string (nullable = true)\n",
      " |-- Vehicle_Make: string (nullable = true)\n",
      " |-- Violation_Precinct: integer (nullable = true)\n",
      " |-- Issuer_Precinct: string (nullable = true)\n",
      " |-- Violation_Time: string (nullable = true)\n",
      "\n"
     ]
    }
   ],
   "source": [
    "df2.printSchema()"
   ]
  },
  {
   "cell_type": "code",
   "execution_count": 16,
   "metadata": {},
   "outputs": [],
   "source": [
    "df2 = df2.withColumn(\"Issuer_Precinct\", col(\"Issuer_Precinct\").cast(\"int\"))"
   ]
  },
  {
   "cell_type": "code",
   "execution_count": 24,
   "metadata": {},
   "outputs": [
    {
     "name": "stdout",
     "output_type": "stream",
     "text": [
      "root\n",
      " |-- Summons_Number: long (nullable = true)\n",
      " |-- Plate_ID: string (nullable = true)\n",
      " |-- Registration_State: string (nullable = true)\n",
      " |-- Issue_Date: timestamp (nullable = true)\n",
      " |-- Violation_Code: integer (nullable = true)\n",
      " |-- Vehicle_Body_Type: string (nullable = true)\n",
      " |-- Vehicle_Make: string (nullable = true)\n",
      " |-- Violation_Precinct: integer (nullable = true)\n",
      " |-- Issuer_Precinct: integer (nullable = true)\n",
      " |-- Violation_Time: string (nullable = true)\n",
      "\n"
     ]
    }
   ],
   "source": [
    "df2.printSchema()"
   ]
  },
  {
   "cell_type": "markdown",
   "metadata": {},
   "source": [
    "converted datatypes as per data set available in https://www.kaggle.com/new-york-city/nyc-parking-tickets/data URL. I think, now the data is ready for analysis."
   ]
  },
  {
   "cell_type": "code",
   "execution_count": 17,
   "metadata": {},
   "outputs": [],
   "source": [
    "# df2 dataFrame - we are creating temporary view by using registerTempTable method.\n",
    "#we will also register this as a temporary view so that we can query it with SQL and show off basic transformations in SQL\n",
    "df2.registerTempTable(\"df2_table\")"
   ]
  },
  {
   "cell_type": "markdown",
   "metadata": {},
   "source": [
    "### Examine the data"
   ]
  },
  {
   "cell_type": "markdown",
   "metadata": {},
   "source": [
    "1. Find the total number of tickets for the year."
   ]
  },
  {
   "cell_type": "code",
   "execution_count": 18,
   "metadata": {},
   "outputs": [
    {
     "name": "stdout",
     "output_type": "stream",
     "text": [
      "+---------------------+\n",
      "|count(Summons_Number)|\n",
      "+---------------------+\n",
      "|             10803028|\n",
      "+---------------------+\n",
      "\n"
     ]
    }
   ],
   "source": [
    "# assumption - In problem statement, you have mentioned and shared to us 2017 year data. so I am counting, how many records present in the given dataframe.\n",
    "df2.select(count(\"Summons_Number\")).show()"
   ]
  },
  {
   "cell_type": "markdown",
   "metadata": {},
   "source": [
    "Total number of records present in the give data frame is 10803027. More than 1 crore records."
   ]
  },
  {
   "cell_type": "markdown",
   "metadata": {},
   "source": [
    "---------------------------------------------------------------------------------------------------------------------\n",
    "2. Find out the number of unique states from where the cars that got parking tickets came. (Hint: Use the column 'Registration State'.)\n",
    "\n",
    "*There is a numeric entry '99' in the column, which should be corrected. Replace it with the state having the maximum entries. Provide the number of unique states again.*"
   ]
  },
  {
   "cell_type": "markdown",
   "metadata": {},
   "source": [
    "1. finding number of distinct registration state\n",
    "2. group the registration state and count number of records persent for each group.\n",
    "3. sort registration state and find out '99' registration state.\n",
    "4. assign this dataframe to another dataframe and replace 99 registration state to NY because NY has more number of records."
   ]
  },
  {
   "cell_type": "code",
   "execution_count": 27,
   "metadata": {},
   "outputs": [
    {
     "name": "stdout",
     "output_type": "stream",
     "text": [
      "+----------------------------------+\n",
      "|count(DISTINCT Registration_State)|\n",
      "+----------------------------------+\n",
      "|                                68|\n",
      "+----------------------------------+\n",
      "\n"
     ]
    }
   ],
   "source": [
    "df2.select(countDistinct(\"Registration_State\")).show()"
   ]
  },
  {
   "cell_type": "code",
   "execution_count": 28,
   "metadata": {},
   "outputs": [],
   "source": [
    "countDistinctDF_sql = spark.sql(\"SELECT Registration_State, count(Registration_State) as distinct_reg_state FROM df2_table GROUP BY Registration_State\")"
   ]
  },
  {
   "cell_type": "code",
   "execution_count": 29,
   "metadata": {},
   "outputs": [],
   "source": [
    "c_d_f_s = countDistinctDF_sql.sort(countDistinctDF_sql.Registration_State)"
   ]
  },
  {
   "cell_type": "code",
   "execution_count": 30,
   "metadata": {},
   "outputs": [
    {
     "name": "stdout",
     "output_type": "stream",
     "text": [
      "+------------------+------------------+\n",
      "|Registration_State|distinct_reg_state|\n",
      "+------------------+------------------+\n",
      "|                99|             36625|\n",
      "|                AB|               218|\n",
      "|                AK|               754|\n",
      "|                AL|              6891|\n",
      "|                AR|              2621|\n",
      "|                AZ|             26426|\n",
      "|                BC|               127|\n",
      "|                CA|             24260|\n",
      "|                CO|              4093|\n",
      "|                CT|            141088|\n",
      "|                DC|              4250|\n",
      "|                DE|             16325|\n",
      "|                DP|              3192|\n",
      "|                FL|            144556|\n",
      "|                FO|                12|\n",
      "|                GA|             36852|\n",
      "|                GV|               704|\n",
      "|                HI|               408|\n",
      "|                IA|              4186|\n",
      "|                ID|              2920|\n",
      "|                IL|             37329|\n",
      "|                IN|             80749|\n",
      "|                KS|              1501|\n",
      "|                KY|              3833|\n",
      "|                LA|              3466|\n",
      "|                MA|             85547|\n",
      "|                MB|                40|\n",
      "|                MD|             61800|\n",
      "|                ME|             21574|\n",
      "|                MI|             15703|\n",
      "|                MN|             18227|\n",
      "|                MO|              4454|\n",
      "|                MS|              3599|\n",
      "|                MT|              1032|\n",
      "|                MX|                 4|\n",
      "|                NB|               137|\n",
      "|                NC|             55806|\n",
      "|                ND|               608|\n",
      "|                NE|              1462|\n",
      "|                NH|              8752|\n",
      "|                NJ|            925964|\n",
      "|                NM|              2322|\n",
      "|                NS|               730|\n",
      "|                NT|                 4|\n",
      "|                NV|              1846|\n",
      "|                NY|           8481061|\n",
      "|                OH|             25302|\n",
      "|                OK|             18165|\n",
      "|                ON|              5601|\n",
      "|                OR|              5483|\n",
      "|                PA|            285419|\n",
      "|                PE|               128|\n",
      "|                PR|               110|\n",
      "|                QB|              4406|\n",
      "|                RI|             12224|\n",
      "|Registration State|                 1|\n",
      "|                SC|             21836|\n",
      "|                SD|              1865|\n",
      "|                SK|                30|\n",
      "|                TN|             17275|\n",
      "|                TX|             36516|\n",
      "|                UT|              1152|\n",
      "|                VA|             72626|\n",
      "|                VT|              7367|\n",
      "|                WA|              6311|\n",
      "|                WI|              4197|\n",
      "|                WV|              2545|\n",
      "|                WY|               411|\n",
      "+------------------+------------------+\n",
      "\n"
     ]
    }
   ],
   "source": [
    "c_d_f_s.show(70)"
   ]
  },
  {
   "cell_type": "markdown",
   "metadata": {},
   "source": [
    "NY registration state has more number of records in the given data frame. NY has 8481060 records. \n",
    "99 record is also showing. So, Need to replace 99 with NY."
   ]
  },
  {
   "cell_type": "code",
   "execution_count": 19,
   "metadata": {},
   "outputs": [],
   "source": [
    "df2 = df2.withColumn(\"Registration_State\", \\\n",
    "              when(df2[\"Registration_State\"] == 99, \"NY\").otherwise(df2[\"Registration_State\"]))"
   ]
  },
  {
   "cell_type": "code",
   "execution_count": 20,
   "metadata": {},
   "outputs": [],
   "source": [
    "# df2 dataFrame - we are creating temporary view by using registerTempTable method.\n",
    "#we will also register this as a temporary view so that we can query it with SQL and show off basic transformations in SQL\n",
    "\n",
    "df2.registerTempTable(\"df2_table\")"
   ]
  },
  {
   "cell_type": "code",
   "execution_count": 21,
   "metadata": {},
   "outputs": [],
   "source": [
    "countDistinctDF_sql1 = spark.sql(\"SELECT Registration_State, count(Registration_State) as distinct_reg_state FROM df2_table GROUP BY Registration_State\")"
   ]
  },
  {
   "cell_type": "code",
   "execution_count": 22,
   "metadata": {},
   "outputs": [],
   "source": [
    "c_d_f_s1 = countDistinctDF_sql1.sort(countDistinctDF_sql1.Registration_State)"
   ]
  },
  {
   "cell_type": "code",
   "execution_count": 23,
   "metadata": {},
   "outputs": [
    {
     "name": "stdout",
     "output_type": "stream",
     "text": [
      "+------------------+------------------+\n",
      "|Registration_State|distinct_reg_state|\n",
      "+------------------+------------------+\n",
      "|                AB|               218|\n",
      "|                AK|               754|\n",
      "|                AL|              6891|\n",
      "|                AR|              2621|\n",
      "|                AZ|             26426|\n",
      "|                BC|               127|\n",
      "|                CA|             24260|\n",
      "|                CO|              4093|\n",
      "|                CT|            141088|\n",
      "|                DC|              4250|\n",
      "|                DE|             16325|\n",
      "|                DP|              3192|\n",
      "|                FL|            144556|\n",
      "|                FO|                12|\n",
      "|                GA|             36852|\n",
      "|                GV|               704|\n",
      "|                HI|               408|\n",
      "|                IA|              4186|\n",
      "|                ID|              2920|\n",
      "|                IL|             37329|\n",
      "|                IN|             80749|\n",
      "|                KS|              1501|\n",
      "|                KY|              3833|\n",
      "|                LA|              3466|\n",
      "|                MA|             85547|\n",
      "|                MB|                40|\n",
      "|                MD|             61800|\n",
      "|                ME|             21574|\n",
      "|                MI|             15703|\n",
      "|                MN|             18227|\n",
      "|                MO|              4454|\n",
      "|                MS|              3599|\n",
      "|                MT|              1032|\n",
      "|                MX|                 4|\n",
      "|                NB|               137|\n",
      "|                NC|             55806|\n",
      "|                ND|               608|\n",
      "|                NE|              1462|\n",
      "|                NH|              8752|\n",
      "|                NJ|            925964|\n",
      "|                NM|              2322|\n",
      "|                NS|               730|\n",
      "|                NT|                 4|\n",
      "|                NV|              1846|\n",
      "|                NY|           8517686|\n",
      "|                OH|             25302|\n",
      "|                OK|             18165|\n",
      "|                ON|              5601|\n",
      "|                OR|              5483|\n",
      "|                PA|            285419|\n",
      "|                PE|               128|\n",
      "|                PR|               110|\n",
      "|                QB|              4406|\n",
      "|                RI|             12224|\n",
      "|Registration State|                 1|\n",
      "|                SC|             21836|\n",
      "|                SD|              1865|\n",
      "|                SK|                30|\n",
      "|                TN|             17275|\n",
      "|                TX|             36516|\n",
      "|                UT|              1152|\n",
      "|                VA|             72626|\n",
      "|                VT|              7367|\n",
      "|                WA|              6311|\n",
      "|                WI|              4197|\n",
      "|                WV|              2545|\n",
      "|                WY|               411|\n",
      "+------------------+------------------+\n",
      "\n"
     ]
    }
   ],
   "source": [
    "c_d_f_s1.show(70)"
   ]
  },
  {
   "cell_type": "markdown",
   "metadata": {},
   "source": [
    "99 Registration state has replaced with NY Registration state. Now NY records count increased from 8481061 to 8517686"
   ]
  },
  {
   "cell_type": "code",
   "execution_count": 36,
   "metadata": {},
   "outputs": [
    {
     "name": "stdout",
     "output_type": "stream",
     "text": [
      "+-------------------------+\n",
      "|count(Registration_State)|\n",
      "+-------------------------+\n",
      "|                       67|\n",
      "+-------------------------+\n",
      "\n"
     ]
    }
   ],
   "source": [
    "c_d_f_s1.select(count(\"Registration_State\")).show()"
   ]
  },
  {
   "cell_type": "markdown",
   "metadata": {},
   "source": [
    "So 67 unique regitration states are available.\n",
    "\n",
    "-----------------------------------------------------------------------------------------------------------------------"
   ]
  },
  {
   "cell_type": "markdown",
   "metadata": {},
   "source": [
    "### Aggregation tasks"
   ]
  },
  {
   "cell_type": "markdown",
   "metadata": {},
   "source": [
    "1. How often does each violation code occur? Display the frequency of the top five violation codes."
   ]
  },
  {
   "cell_type": "code",
   "execution_count": 37,
   "metadata": {},
   "outputs": [],
   "source": [
    "countDistinctDF_VC = spark.sql(\"SELECT Violation_Code, count(Violation_Code) as distinct_violation_code FROM df2_table GROUP BY Violation_Code\")"
   ]
  },
  {
   "cell_type": "code",
   "execution_count": 38,
   "metadata": {},
   "outputs": [],
   "source": [
    "c_d_f_vc = countDistinctDF_VC.sort(desc(\"distinct_violation_code\"))"
   ]
  },
  {
   "cell_type": "code",
   "execution_count": 39,
   "metadata": {},
   "outputs": [
    {
     "name": "stdout",
     "output_type": "stream",
     "text": [
      "+--------------+-----------------------+\n",
      "|Violation_Code|distinct_violation_code|\n",
      "+--------------+-----------------------+\n",
      "|            21|                1528588|\n",
      "|            36|                1400614|\n",
      "|            38|                1062304|\n",
      "|            14|                 893497|\n",
      "|            20|                 618593|\n",
      "|            46|                 600012|\n",
      "|            37|                 596769|\n",
      "|            71|                 521308|\n",
      "|            40|                 519615|\n",
      "|             7|                 516395|\n",
      "+--------------+-----------------------+\n",
      "only showing top 10 rows\n",
      "\n"
     ]
    }
   ],
   "source": [
    "c_d_f_vc.show(10)"
   ]
  },
  {
   "cell_type": "markdown",
   "metadata": {},
   "source": [
    "Violation codes 21,36,38,14,20 are the most frequency occured."
   ]
  },
  {
   "cell_type": "code",
   "execution_count": 40,
   "metadata": {},
   "outputs": [],
   "source": [
    "top_5_VC = c_d_f_vc.limit(5)"
   ]
  },
  {
   "cell_type": "code",
   "execution_count": 41,
   "metadata": {},
   "outputs": [
    {
     "name": "stdout",
     "output_type": "stream",
     "text": [
      "+--------------+-----------------------+\n",
      "|Violation_Code|distinct_violation_code|\n",
      "+--------------+-----------------------+\n",
      "|            21|                1528588|\n",
      "|            36|                1400614|\n",
      "|            38|                1062304|\n",
      "|            14|                 893498|\n",
      "|            20|                 618593|\n",
      "+--------------+-----------------------+\n",
      "\n"
     ]
    }
   ],
   "source": [
    "top_5_VC.show()"
   ]
  },
  {
   "cell_type": "code",
   "execution_count": 42,
   "metadata": {},
   "outputs": [],
   "source": [
    "total_no_of_days_2017 = 365"
   ]
  },
  {
   "cell_type": "code",
   "execution_count": 43,
   "metadata": {},
   "outputs": [
    {
     "name": "stdout",
     "output_type": "stream",
     "text": [
      "+--------------+-----------------------+----------------------+\n",
      "|Violation_Code|distinct_violation_code|frequency_of_occurance|\n",
      "+--------------+-----------------------+----------------------+\n",
      "|            21|                1528588|     4187.912328767124|\n",
      "|            36|                1400613|    3837.2958904109587|\n",
      "|            38|                1062304|    2910.4219178082194|\n",
      "|            14|                 893498|    2447.9397260273972|\n",
      "|            20|                 618593|    1694.7753424657535|\n",
      "+--------------+-----------------------+----------------------+\n",
      "\n"
     ]
    }
   ],
   "source": [
    "top_5_VC.select(top_5_VC.Violation_Code, top_5_VC.distinct_violation_code,(top_5_VC.distinct_violation_code/total_no_of_days_2017).alias('frequency_of_occurance')).show()"
   ]
  },
  {
   "cell_type": "markdown",
   "metadata": {},
   "source": [
    "21 violation code is occuring approximately 4188 per day.<br>\n",
    "36 violation code is occuring approximately 3837 per day.<br>\n",
    "38 violation code is occuring approximately 2910 per day.<br>\n",
    "14 violation code is occuring approximately 2448 per day.<br>\n",
    "20 violation code is occuring approximately 1695 per day.<br>\n",
    "\n",
    "-----------------------------------------------------------------------------------------------------------------------"
   ]
  },
  {
   "cell_type": "markdown",
   "metadata": {},
   "source": [
    "2. How often does each 'vehicle body type' get a parking ticket? How about the 'vehicle make'? (Hint: Find the top 5 for both.)"
   ]
  },
  {
   "cell_type": "code",
   "execution_count": 44,
   "metadata": {},
   "outputs": [],
   "source": [
    "countDistinctDF_VBT = spark.sql(\"SELECT Vehicle_Body_Type, count(Vehicle_Body_Type) as distinct_violation_body_type FROM df2_table GROUP BY Vehicle_Body_Type\")"
   ]
  },
  {
   "cell_type": "code",
   "execution_count": 45,
   "metadata": {},
   "outputs": [],
   "source": [
    "c_d_f_vbt = countDistinctDF_VBT.sort(desc(\"distinct_violation_body_type\"))"
   ]
  },
  {
   "cell_type": "code",
   "execution_count": 46,
   "metadata": {},
   "outputs": [
    {
     "name": "stdout",
     "output_type": "stream",
     "text": [
      "+-----------------+----------------------------+\n",
      "|Vehicle_Body_Type|distinct_violation_body_type|\n",
      "+-----------------+----------------------------+\n",
      "|             SUBN|                     3719802|\n",
      "|             4DSD|                     3082020|\n",
      "|              VAN|                     1411970|\n",
      "|             DELV|                      687330|\n",
      "|              SDN|                      438190|\n",
      "|             2DSD|                      274380|\n",
      "|             PICK|                      262618|\n",
      "|             REFG|                       99187|\n",
      "|             TRAC|                       72608|\n",
      "|             TAXI|                       61866|\n",
      "+-----------------+----------------------------+\n",
      "only showing top 10 rows\n",
      "\n"
     ]
    }
   ],
   "source": [
    "c_d_f_vbt.show(10)"
   ]
  },
  {
   "cell_type": "code",
   "execution_count": 47,
   "metadata": {},
   "outputs": [],
   "source": [
    "top_5_VBT = c_d_f_vbt.limit(5)"
   ]
  },
  {
   "cell_type": "code",
   "execution_count": 48,
   "metadata": {},
   "outputs": [
    {
     "name": "stdout",
     "output_type": "stream",
     "text": [
      "+-----------------+----------------------------+\n",
      "|Vehicle_Body_Type|distinct_violation_body_type|\n",
      "+-----------------+----------------------------+\n",
      "|             SUBN|                     3719802|\n",
      "|             4DSD|                     3082020|\n",
      "|              VAN|                     1411970|\n",
      "|             DELV|                      687330|\n",
      "|              SDN|                      438190|\n",
      "+-----------------+----------------------------+\n",
      "\n"
     ]
    }
   ],
   "source": [
    "top_5_VBT.show()"
   ]
  },
  {
   "cell_type": "code",
   "execution_count": 49,
   "metadata": {
    "scrolled": false
   },
   "outputs": [
    {
     "name": "stdout",
     "output_type": "stream",
     "text": [
      "+-----------------+----------------------------+----------------------+\n",
      "|Vehicle_Body_Type|distinct_violation_body_type|frequency_of_occurance|\n",
      "+-----------------+----------------------------+----------------------+\n",
      "|             SUBN|                     3719801|    10191.235616438356|\n",
      "|             4DSD|                     3082020|     8443.890410958904|\n",
      "|              VAN|                     1411970|    3868.4109589041095|\n",
      "|             DELV|                      687330|    1883.0958904109589|\n",
      "|              SDN|                      438191|    1200.5232876712328|\n",
      "+-----------------+----------------------------+----------------------+\n",
      "\n"
     ]
    }
   ],
   "source": [
    "top_5_VBT.select(top_5_VBT.Vehicle_Body_Type, top_5_VBT.distinct_violation_body_type,(top_5_VBT.distinct_violation_body_type/total_no_of_days_2017).alias('frequency_of_occurance')).show()"
   ]
  },
  {
   "cell_type": "markdown",
   "metadata": {},
   "source": [
    "SUBN violation body type is occuring approximately 10191 per day.<br>\n",
    "4DSD violation body type is occuring approximately 8443 per day.<br>\n",
    "VAN violation body type is occuring approximately 3868 per day.<br>\n",
    "DELV violation body type is occuring approximately 1883 per day.<br>\n",
    "SDN violation body type is occuring approximately 1200 per day."
   ]
  },
  {
   "cell_type": "code",
   "execution_count": 50,
   "metadata": {},
   "outputs": [],
   "source": [
    "countDistinctDF_VM = spark.sql(\"SELECT Vehicle_Make, count(Vehicle_Make) as distinct_violation_make FROM df2_table GROUP BY Vehicle_Make\")"
   ]
  },
  {
   "cell_type": "code",
   "execution_count": 51,
   "metadata": {},
   "outputs": [],
   "source": [
    "c_d_f_vm = countDistinctDF_VM.sort(desc(\"distinct_violation_make\"))"
   ]
  },
  {
   "cell_type": "code",
   "execution_count": 52,
   "metadata": {},
   "outputs": [
    {
     "name": "stdout",
     "output_type": "stream",
     "text": [
      "+------------+-----------------------+\n",
      "|Vehicle_Make|distinct_violation_make|\n",
      "+------------+-----------------------+\n",
      "|        FORD|                1280958|\n",
      "|       TOYOT|                1211451|\n",
      "|       HONDA|                1079238|\n",
      "|       NISSA|                 918590|\n",
      "|       CHEVR|                 714655|\n",
      "|       FRUEH|                 429158|\n",
      "|       ME/BE|                 389051|\n",
      "|         BMW|                 374929|\n",
      "|       DODGE|                 372127|\n",
      "|        JEEP|                 348145|\n",
      "+------------+-----------------------+\n",
      "only showing top 10 rows\n",
      "\n"
     ]
    }
   ],
   "source": [
    "c_d_f_vm.show(10)"
   ]
  },
  {
   "cell_type": "code",
   "execution_count": 53,
   "metadata": {},
   "outputs": [],
   "source": [
    "top_5_VM = c_d_f_vm.limit(5)"
   ]
  },
  {
   "cell_type": "code",
   "execution_count": 54,
   "metadata": {},
   "outputs": [
    {
     "name": "stdout",
     "output_type": "stream",
     "text": [
      "+------------+-----------------------+\n",
      "|Vehicle_Make|distinct_violation_make|\n",
      "+------------+-----------------------+\n",
      "|        FORD|                1280958|\n",
      "|       TOYOT|                1211451|\n",
      "|       HONDA|                1079238|\n",
      "|       NISSA|                 918590|\n",
      "|       CHEVR|                 714655|\n",
      "+------------+-----------------------+\n",
      "\n"
     ]
    }
   ],
   "source": [
    "top_5_VM.show()"
   ]
  },
  {
   "cell_type": "code",
   "execution_count": 55,
   "metadata": {},
   "outputs": [
    {
     "name": "stdout",
     "output_type": "stream",
     "text": [
      "+------------+-----------------------+----------------------+\n",
      "|Vehicle_Make|distinct_violation_make|frequency_of_occurance|\n",
      "+------------+-----------------------+----------------------+\n",
      "|        FORD|                1280957|    3509.4712328767123|\n",
      "|       TOYOT|                1211451|     3319.043835616438|\n",
      "|       HONDA|                1079238|    2956.8164383561643|\n",
      "|       NISSA|                 918590|    2516.6849315068494|\n",
      "|       CHEVR|                 714655|     1957.958904109589|\n",
      "+------------+-----------------------+----------------------+\n",
      "\n"
     ]
    }
   ],
   "source": [
    "top_5_VM.select(top_5_VM.Vehicle_Make, top_5_VM.distinct_violation_make,(top_5_VM.distinct_violation_make/total_no_of_days_2017).alias('frequency_of_occurance')).show()"
   ]
  },
  {
   "cell_type": "markdown",
   "metadata": {},
   "source": [
    "FORD violation make is occuring approximately 3509 per day.<br>\n",
    "TOYOT violation make is occuring approximately 3319 per day.<br>\n",
    "HONDA violation make is occuring approximately 2957 per day.<br>\n",
    "NISSA violation make is occuring approximately 2517 per day.<br>\n",
    "CHEVR violation make is occuring approximately 1958 per day.<br>\n",
    "\n",
    "-----------------------------------------------------------------------------------------------------------------------"
   ]
  },
  {
   "cell_type": "markdown",
   "metadata": {},
   "source": [
    "3. A precinct is a police station that has a certain zone of the city under its command. Find the (5 highest) frequencies of tickets for each of the following:\n",
    "\n",
    "   1. 'Violation Precinct' (This is the precinct of the zone where the violation occurred). Using this, can you draw any insights for parking violations in any specific areas of the city?\n",
    "   \n",
    "   2. 'Issuer Precinct' (This is the precinct that issued the ticket.)\n",
    "    Here, you would have noticed that the dataframe has the'Violating Precinct' or 'Issuing Precinct' as '0'. These are erroneous entries. Hence, you need to provide the records for five correct precincts. (Hint: Print the top six entries after sorting.)"
   ]
  },
  {
   "cell_type": "code",
   "execution_count": 56,
   "metadata": {},
   "outputs": [],
   "source": [
    "countDistinctDF_VP = spark.sql(\"SELECT Registration_State, count(Violation_Precinct) as distinct_violation_precinct FROM df2_table GROUP BY Registration_State\")"
   ]
  },
  {
   "cell_type": "code",
   "execution_count": 57,
   "metadata": {},
   "outputs": [],
   "source": [
    "c_d_f_vp = countDistinctDF_VP.sort(desc(\"distinct_violation_precinct\"))"
   ]
  },
  {
   "cell_type": "code",
   "execution_count": 58,
   "metadata": {},
   "outputs": [
    {
     "name": "stdout",
     "output_type": "stream",
     "text": [
      "+------------------+---------------------------+\n",
      "|Registration_State|distinct_violation_precinct|\n",
      "+------------------+---------------------------+\n",
      "|                NY|                    8517685|\n",
      "|                NJ|                     925965|\n",
      "|                PA|                     285419|\n",
      "|                FL|                     144556|\n",
      "|                CT|                     141088|\n",
      "+------------------+---------------------------+\n",
      "only showing top 5 rows\n",
      "\n"
     ]
    }
   ],
   "source": [
    "c_d_f_vp.show(5)"
   ]
  },
  {
   "cell_type": "markdown",
   "metadata": {},
   "source": [
    "We can see NY, NJ, PA, FL, CT are the top 5 cities are violating parking rules."
   ]
  },
  {
   "cell_type": "code",
   "execution_count": 59,
   "metadata": {},
   "outputs": [],
   "source": [
    "countDistinctDF_IP = spark.sql(\"SELECT Issuer_Precinct, count(Issuer_Precinct) as distinct_issuer_precinct FROM df2_table GROUP BY Issuer_Precinct\")"
   ]
  },
  {
   "cell_type": "code",
   "execution_count": 60,
   "metadata": {},
   "outputs": [],
   "source": [
    "c_d_f_ip = countDistinctDF_IP.sort(desc(\"distinct_issuer_precinct\"))"
   ]
  },
  {
   "cell_type": "code",
   "execution_count": 61,
   "metadata": {},
   "outputs": [
    {
     "name": "stdout",
     "output_type": "stream",
     "text": [
      "+---------------+------------------------+\n",
      "|Issuer_Precinct|distinct_issuer_precinct|\n",
      "+---------------+------------------------+\n",
      "|              0|                 2388479|\n",
      "|             19|                  521513|\n",
      "|             14|                  344977|\n",
      "|              1|                  321170|\n",
      "|             18|                  296553|\n",
      "|            114|                  289950|\n",
      "+---------------+------------------------+\n",
      "only showing top 6 rows\n",
      "\n"
     ]
    }
   ],
   "source": [
    "c_d_f_ip.show(6)"
   ]
  },
  {
   "cell_type": "markdown",
   "metadata": {},
   "source": [
    "Yeah, first record is showing 0 in Issuer_Precinct."
   ]
  },
  {
   "cell_type": "code",
   "execution_count": 62,
   "metadata": {},
   "outputs": [],
   "source": [
    "c_d_f_ip1 = c_d_f_ip.limit(1)"
   ]
  },
  {
   "cell_type": "code",
   "execution_count": 63,
   "metadata": {},
   "outputs": [],
   "source": [
    "c_d_f_ip = c_d_f_ip.subtract(c_d_f_ip1)"
   ]
  },
  {
   "cell_type": "code",
   "execution_count": 64,
   "metadata": {},
   "outputs": [
    {
     "name": "stdout",
     "output_type": "stream",
     "text": [
      "+---------------+------------------------+\n",
      "|Issuer_Precinct|distinct_issuer_precinct|\n",
      "+---------------+------------------------+\n",
      "|             19|                  521513|\n",
      "|             14|                  344977|\n",
      "|              1|                  321170|\n",
      "|             18|                  296553|\n",
      "|            114|                  289950|\n",
      "|             13|                  240833|\n",
      "+---------------+------------------------+\n",
      "only showing top 6 rows\n",
      "\n"
     ]
    }
   ],
   "source": [
    "c_d_f_ip.show(6)"
   ]
  },
  {
   "cell_type": "code",
   "execution_count": 65,
   "metadata": {},
   "outputs": [],
   "source": [
    "countDistinctDF_VP1 = spark.sql(\"SELECT Violation_Precinct, count(Violation_Precinct) as distinct_violation_precinct FROM df2_table GROUP BY Violation_Precinct\")"
   ]
  },
  {
   "cell_type": "code",
   "execution_count": 66,
   "metadata": {},
   "outputs": [],
   "source": [
    "c_d_f_vp1 = countDistinctDF_VP1.sort(desc(\"distinct_violation_precinct\"))"
   ]
  },
  {
   "cell_type": "code",
   "execution_count": 67,
   "metadata": {},
   "outputs": [
    {
     "name": "stdout",
     "output_type": "stream",
     "text": [
      "+------------------+---------------------------+\n",
      "|Violation_Precinct|distinct_violation_precinct|\n",
      "+------------------+---------------------------+\n",
      "|                 0|                    2072400|\n",
      "|                19|                     535671|\n",
      "|                14|                     352450|\n",
      "|                 1|                     331810|\n",
      "|                18|                     306920|\n",
      "|               114|                     296514|\n",
      "+------------------+---------------------------+\n",
      "only showing top 6 rows\n",
      "\n"
     ]
    }
   ],
   "source": [
    "c_d_f_vp1.show(6)"
   ]
  },
  {
   "cell_type": "markdown",
   "metadata": {},
   "source": [
    "Yeah, first record is showing 0 in Violation_Precinct."
   ]
  },
  {
   "cell_type": "code",
   "execution_count": 68,
   "metadata": {},
   "outputs": [],
   "source": [
    "c_d_f_vp2 = c_d_f_vp1.limit(1)"
   ]
  },
  {
   "cell_type": "code",
   "execution_count": 69,
   "metadata": {},
   "outputs": [],
   "source": [
    "c_d_f_vp1 = c_d_f_vp1.subtract(c_d_f_vp2)"
   ]
  },
  {
   "cell_type": "code",
   "execution_count": 70,
   "metadata": {},
   "outputs": [
    {
     "name": "stdout",
     "output_type": "stream",
     "text": [
      "+------------------+---------------------------+\n",
      "|Violation_Precinct|distinct_violation_precinct|\n",
      "+------------------+---------------------------+\n",
      "|                19|                     535671|\n",
      "|                14|                     352450|\n",
      "|                 1|                     331810|\n",
      "|                18|                     306920|\n",
      "|               114|                     296514|\n",
      "|                13|                     246595|\n",
      "+------------------+---------------------------+\n",
      "only showing top 6 rows\n",
      "\n"
     ]
    }
   ],
   "source": [
    "c_d_f_vp1.show(6)"
   ]
  },
  {
   "cell_type": "markdown",
   "metadata": {},
   "source": [
    "-----------------------------------------------------------------------------------------------------------------------"
   ]
  },
  {
   "cell_type": "markdown",
   "metadata": {},
   "source": [
    "4. Find the violation code frequencies for three precincts that have issued the most number of tickets. Do these precinct zones have an exceptionally high frequency of certain violation codes? Are these codes common across precincts? \n",
    "(Hint: In the SQL view, use the 'where' attribute to filter among three precincts.)"
   ]
  },
  {
   "cell_type": "markdown",
   "metadata": {},
   "source": [
    "1. first findout number of violation precinct occured for each code qnd then divide by total number of days in 2017. You get frequency of occurance - How many number of violation precient occurred in a day. Similarly find out for Issuer percinct and check the codes between violation percient and issuer percient."
   ]
  },
  {
   "cell_type": "code",
   "execution_count": 71,
   "metadata": {},
   "outputs": [],
   "source": [
    "countDistinctDF_VCF = spark.sql(\"SELECT Violation_Code, count(Violation_Precinct) as distinct_violation_precinct FROM df2_table GROUP BY Violation_Code\")"
   ]
  },
  {
   "cell_type": "code",
   "execution_count": 72,
   "metadata": {},
   "outputs": [],
   "source": [
    "c_d_f_vcf1 = countDistinctDF_VCF.sort(desc(\"distinct_violation_precinct\"))"
   ]
  },
  {
   "cell_type": "code",
   "execution_count": 73,
   "metadata": {},
   "outputs": [
    {
     "name": "stdout",
     "output_type": "stream",
     "text": [
      "+--------------+---------------------------+\n",
      "|Violation_Code|distinct_violation_precinct|\n",
      "+--------------+---------------------------+\n",
      "|            21|                    1528588|\n",
      "|            36|                    1400614|\n",
      "|            38|                    1062304|\n",
      "|            14|                     893497|\n",
      "|            20|                     618593|\n",
      "|            46|                     600012|\n",
      "+--------------+---------------------------+\n",
      "only showing top 6 rows\n",
      "\n"
     ]
    }
   ],
   "source": [
    "c_d_f_vcf1.show(6)"
   ]
  },
  {
   "cell_type": "code",
   "execution_count": 74,
   "metadata": {},
   "outputs": [
    {
     "name": "stdout",
     "output_type": "stream",
     "text": [
      "+--------------+---------------------------+----------------------+\n",
      "|Violation_Code|distinct_violation_precinct|frequency_of_occurance|\n",
      "+--------------+---------------------------+----------------------+\n",
      "|            21|                    1528588|     4187.912328767124|\n",
      "|            36|                    1400614|    3837.2986301369865|\n",
      "|            38|                    1062304|    2910.4219178082194|\n",
      "+--------------+---------------------------+----------------------+\n",
      "only showing top 3 rows\n",
      "\n"
     ]
    }
   ],
   "source": [
    "c_d_f_vcf1.select(c_d_f_vcf1.Violation_Code, c_d_f_vcf1.distinct_violation_precinct,(c_d_f_vcf1.distinct_violation_precinct/total_no_of_days_2017).alias('frequency_of_occurance')).show(3)"
   ]
  },
  {
   "cell_type": "code",
   "execution_count": 75,
   "metadata": {},
   "outputs": [],
   "source": [
    "countDistinctDF_VCF2 = spark.sql(\"SELECT Violation_Code, count(Issuer_Precinct) as distinct_issuer_precinct FROM df2_table GROUP BY Violation_Code\")"
   ]
  },
  {
   "cell_type": "code",
   "execution_count": 76,
   "metadata": {},
   "outputs": [],
   "source": [
    "c_d_f_vcf2 = countDistinctDF_VCF2.sort(desc(\"distinct_issuer_precinct\"))"
   ]
  },
  {
   "cell_type": "code",
   "execution_count": 77,
   "metadata": {},
   "outputs": [
    {
     "name": "stdout",
     "output_type": "stream",
     "text": [
      "+--------------+------------------------+\n",
      "|Violation_Code|distinct_issuer_precinct|\n",
      "+--------------+------------------------+\n",
      "|            21|                 1528588|\n",
      "|            36|                 1400614|\n",
      "|            38|                 1062304|\n",
      "|            14|                  893497|\n",
      "|            20|                  618593|\n",
      "|            46|                  600012|\n",
      "+--------------+------------------------+\n",
      "only showing top 6 rows\n",
      "\n"
     ]
    }
   ],
   "source": [
    "c_d_f_vcf2.show(6)"
   ]
  },
  {
   "cell_type": "code",
   "execution_count": 78,
   "metadata": {},
   "outputs": [
    {
     "name": "stdout",
     "output_type": "stream",
     "text": [
      "+--------------+------------------------+----------------------+\n",
      "|Violation_Code|distinct_issuer_precinct|frequency_of_occurance|\n",
      "+--------------+------------------------+----------------------+\n",
      "|            21|                 1528588|     4187.912328767124|\n",
      "|            36|                 1400614|    3837.2986301369865|\n",
      "|            38|                 1062304|    2910.4219178082194|\n",
      "+--------------+------------------------+----------------------+\n",
      "only showing top 3 rows\n",
      "\n"
     ]
    }
   ],
   "source": [
    "c_d_f_vcf2.select(c_d_f_vcf2.Violation_Code, c_d_f_vcf2.distinct_issuer_precinct,(c_d_f_vcf2.distinct_issuer_precinct/total_no_of_days_2017).alias('frequency_of_occurance')).show(3)"
   ]
  },
  {
   "cell_type": "markdown",
   "metadata": {},
   "source": [
    "21,36 and 38 are most frequently violation codes."
   ]
  },
  {
   "cell_type": "code",
   "execution_count": 40,
   "metadata": {},
   "outputs": [],
   "source": [
    "#whereDF = df2.where((col(\"Violation_Code\") == 21) | (col(\"Violation_Code\") == 36) | (col(\"Violation_Code\") == 38)).sort(\"Violation_Code\")"
   ]
  },
  {
   "cell_type": "code",
   "execution_count": 41,
   "metadata": {},
   "outputs": [],
   "source": [
    "#whereDF1 =df2.select(\"Violation_Code\", \"Registration_State\").where((col(\"Violation_Code\") == 21) | (col(\"Violation_Code\") == 36) | (col(\"Violation_Code\") == 38)).sort(\"Violation_Code\")"
   ]
  },
  {
   "cell_type": "code",
   "execution_count": 46,
   "metadata": {},
   "outputs": [],
   "source": [
    "#whereDF2 = whereDF1.groupBy(\"Violation_Code\")"
   ]
  },
  {
   "cell_type": "markdown",
   "metadata": {},
   "source": [
    "5. Find out the properties of parking violations across different times of the day:\n",
    "\n",
    "    1. Find a way to deal with missing values, if any.\n",
    "    (Hint: Check for the null values using 'isNull' under the SQL. Also, to remove the null values, check the 'dropna' command in the API documentation.)"
   ]
  },
  {
   "cell_type": "code",
   "execution_count": 24,
   "metadata": {},
   "outputs": [],
   "source": [
    "MissingValuesDF = df2.filter(col(\"Summons_Number\").isNull() | col(\"Plate_ID\").isNull() | col(\"Registration_State\").isNull() | col(\"Issue_Date\").isNull() | col(\"Violation_Code\").isNull() | col(\"Vehicle_Body_Type\").isNull() | col(\"Vehicle_Make\").isNull() | col(\"Violation_Precinct\").isNull() | col(\"Issuer_Precinct\").isNull() | col(\"Violation_Time\").isNull())"
   ]
  },
  {
   "cell_type": "code",
   "execution_count": 25,
   "metadata": {},
   "outputs": [
    {
     "name": "stdout",
     "output_type": "stream",
     "text": [
      "+--------------+--------+------------------+----------+--------------+-----------------+------------+------------------+---------------+--------------+\n",
      "|Summons_Number|Plate_ID|Registration_State|Issue_Date|Violation_Code|Vehicle_Body_Type|Vehicle_Make|Violation_Precinct|Issuer_Precinct|Violation_Time|\n",
      "+--------------+--------+------------------+----------+--------------+-----------------+------------+------------------+---------------+--------------+\n",
      "|          null|Plate ID|Registration State|      null|          null|Vehicle Body Type|Vehicle Make|              null|           null|Violation Time|\n",
      "+--------------+--------+------------------+----------+--------------+-----------------+------------+------------------+---------------+--------------+\n",
      "\n"
     ]
    }
   ],
   "source": [
    "MissingValuesDF.show(5)"
   ]
  },
  {
   "cell_type": "code",
   "execution_count": 26,
   "metadata": {},
   "outputs": [],
   "source": [
    "#Drop records with null value\n",
    "df2 = df2.na.drop()"
   ]
  },
  {
   "cell_type": "code",
   "execution_count": 27,
   "metadata": {},
   "outputs": [],
   "source": [
    "MissingValuesDF = df2.filter(col(\"Summons_Number\").isNull() | col(\"Plate_ID\").isNull() | col(\"Registration_State\").isNull() | col(\"Issue_Date\").isNull() | col(\"Violation_Code\").isNull() | col(\"Vehicle_Body_Type\").isNull() | col(\"Vehicle_Make\").isNull() | col(\"Violation_Precinct\").isNull() | col(\"Issuer_Precinct\").isNull() | col(\"Violation_Time\").isNull())"
   ]
  },
  {
   "cell_type": "code",
   "execution_count": 28,
   "metadata": {},
   "outputs": [
    {
     "name": "stdout",
     "output_type": "stream",
     "text": [
      "+--------------+--------+------------------+----------+--------------+-----------------+------------+------------------+---------------+--------------+\n",
      "|Summons_Number|Plate_ID|Registration_State|Issue_Date|Violation_Code|Vehicle_Body_Type|Vehicle_Make|Violation_Precinct|Issuer_Precinct|Violation_Time|\n",
      "+--------------+--------+------------------+----------+--------------+-----------------+------------+------------------+---------------+--------------+\n",
      "+--------------+--------+------------------+----------+--------------+-----------------+------------+------------------+---------------+--------------+\n",
      "\n"
     ]
    }
   ],
   "source": [
    "MissingValuesDF.show(5)"
   ]
  },
  {
   "cell_type": "markdown",
   "metadata": {},
   "source": [
    "Now no missing values in df2 dataframe."
   ]
  },
  {
   "cell_type": "markdown",
   "metadata": {},
   "source": [
    "B. The Violation Time field is specified in a strange format. Find a way to make this a time attribute that you can use to divide into groups."
   ]
  },
  {
   "cell_type": "code",
   "execution_count": 29,
   "metadata": {},
   "outputs": [],
   "source": [
    "tt = df2"
   ]
  },
  {
   "cell_type": "code",
   "execution_count": 30,
   "metadata": {},
   "outputs": [],
   "source": [
    "df2 = df2.select(df2[\"Summons_Number\"],df2[\"Plate_ID\"],df2[\"Registration_State\"],df2[\"Issue_Date\"],df2[\"Violation_Code\"],df2[\"Vehicle_Body_Type\"],df2[\"Vehicle_Make\"],df2[\"Violation_Precinct\"],df2[\"Issuer_Precinct\"],substring(df2.Violation_Time, 1, 2).alias('hours'),substring(df2.Violation_Time, 3, 2).alias('Mins'), substring(df2.Violation_Time, 5, 1).alias('AMPM'), df2.Violation_Time )"
   ]
  },
  {
   "cell_type": "code",
   "execution_count": 31,
   "metadata": {},
   "outputs": [],
   "source": [
    "df2 = df2.withColumn(\"AMPM\", when(col(\"AMPM\") == \"A\", \"AM\")\n",
    "                                   .otherwise(\"PM\")\n",
    "                           );"
   ]
  },
  {
   "cell_type": "code",
   "execution_count": 84,
   "metadata": {},
   "outputs": [
    {
     "name": "stdout",
     "output_type": "stream",
     "text": [
      "+--------------+----------+------------------+-------------------+--------------+-----------------+------------+------------------+---------------+-----+----+----+--------------+\n",
      "|Summons_Number|  Plate_ID|Registration_State|         Issue_Date|Violation_Code|Vehicle_Body_Type|Vehicle_Make|Violation_Precinct|Issuer_Precinct|hours|Mins|AMPM|Violation_Time|\n",
      "+--------------+----------+------------------+-------------------+--------------+-----------------+------------+------------------+---------------+-----+----+----+--------------+\n",
      "|    1082331053|   GUR1870|                NY|2016-09-05 00:00:00|            17|              SDN|       HYUND|                71|            976|   07|  30|  AM|         0730A|\n",
      "|    1158077610|BLANKPLATE|                NY|2016-11-28 00:00:00|            77|              BUS|       INTER|               101|            968|   10|  20|  AM|         1020A|\n",
      "|    1256447663|  T513505C|                NY|2016-07-26 00:00:00|            20|             TAXI|         nan|               110|            976|   06|  39|  AM|         0639A|\n",
      "|    1274997537|   HDS2433|                NY|2017-03-22 00:00:00|            17|              SDN|       VOLKS|                30|            862|   12|  23|  AM|         1223A|\n",
      "|    1302415153|   HCR4169|                NY|2016-08-29 00:00:00|            19|              SDN|       ME/BE|               120|              0|   10|  21|  AM|         1021A|\n",
      "|    1307572613|   FRP6862|                NY|2016-10-13 00:00:00|            20|             SUBN|       CHEVR|               110|            110|   11|  05|  AM|         1105A|\n",
      "|    1322537987|    FGY199|                NY|2017-04-24 00:00:00|            17|              SDN|       MERCU|                84|            837|   11|  40|  AM|         1140A|\n",
      "|    1333624906|  T697007C|                NY|2017-02-10 00:00:00|            14|              SDN|       TOYOT|                84|            730|   02|  22|  PM|         0222P|\n",
      "|    1345479920|   HCN5240|                NY|2016-07-14 00:00:00|            19|             SUBN|         GMC|                84|            360|   02|  00|  PM|         0200P|\n",
      "|    1349524104|   63534JZ|                NY|2017-01-03 00:00:00|            46|             DELV|       ISUZU|                90|             90|   09|  13|  AM|         0913A|\n",
      "|    1349530761|    AM204D|                NJ|2016-10-28 00:00:00|            46|             DELV|       FRUEH|                90|             90|   11|  32|  AM|         1132A|\n",
      "|    1349531522|   GSN1810|                NY|2016-11-05 00:00:00|            20|             SUBN|        JEEP|                90|             90|   08|  00|  PM|         0800P|\n",
      "|    1349533774|    VJY35C|                NJ|2017-01-02 00:00:00|            16|             SUBN|       TOYOT|                90|             90|   09|  30|  AM|         0930A|\n",
      "|    1355404666|   JNG2498|                NY|2016-11-20 00:00:00|            98|              SDN|       CHRYS|                34|              1|   09|  07|  AM|         0907A|\n",
      "|    1363026550|   ECC3362|                NY|2017-03-27 00:00:00|            21|              VAN|       TOYOT|                60|            985|   12|  04|  PM|         1204P|\n",
      "|    1363041551|   J73839J|                PA|2016-12-29 00:00:00|            68|              SDN|         nan|                60|            985|   01|  50|  AM|         0150A|\n",
      "|    1368116401|   YZG6164|                PA|2016-08-07 00:00:00|            20|              VAN|        FORD|                25|              1|   06|  14|  PM|         0614P|\n",
      "|    1368117296|   HES5201|                NY|2016-08-07 00:00:00|            71|              SDN|       HONDA|                25|              7|   06|  35|  PM|         0635P|\n",
      "|    1371895156|   38431MJ|                NY|2017-04-28 00:00:00|            20|              VAN|          UD|               110|              3|   12|  04|  PM|         1204P|\n",
      "|    1383348613|   GUH3536|                NY|2016-10-28 00:00:00|            27|              SDN|       TOYOT|               114|              0|   08|  55|  AM|         0855A|\n",
      "+--------------+----------+------------------+-------------------+--------------+-----------------+------------+------------------+---------------+-----+----+----+--------------+\n",
      "only showing top 20 rows\n",
      "\n"
     ]
    }
   ],
   "source": [
    "df2.select(df2[\"Summons_Number\"],df2[\"Plate_ID\"],df2[\"Registration_State\"],df2[\"Issue_Date\"],df2[\"Violation_Code\"],df2[\"Vehicle_Body_Type\"],df2[\"Vehicle_Make\"],df2[\"Violation_Precinct\"],df2[\"Issuer_Precinct\"],df2[\"hours\"],df2[\"Mins\"], df2[\"AMPM\"], df2.Violation_Time ).show()"
   ]
  },
  {
   "cell_type": "code",
   "execution_count": 32,
   "metadata": {},
   "outputs": [],
   "source": [
    "df2 = df2.withColumn(\"hours\", when(col(\"AMPM\") == \"PM\", df2[\"hours\"]+12)\n",
    "                                   .otherwise(col(\"hours\"))\n",
    "                           );"
   ]
  },
  {
   "cell_type": "code",
   "execution_count": 33,
   "metadata": {},
   "outputs": [],
   "source": [
    "df2 = df2.withColumn(\"hours\", col(\"hours\").cast(\"int\"))"
   ]
  },
  {
   "cell_type": "code",
   "execution_count": 34,
   "metadata": {},
   "outputs": [],
   "source": [
    "df2 = df2.select(df2[\"Summons_Number\"],df2[\"Plate_ID\"],df2[\"Registration_State\"],df2[\"Issue_Date\"],df2[\"Violation_Code\"],df2[\"Vehicle_Body_Type\"],df2[\"Vehicle_Make\"],df2[\"Violation_Precinct\"],df2[\"Issuer_Precinct\"],df2[\"hours\"],df2[\"Mins\"], df2[\"AMPM\"],concat_ws(':', df2[\"hours\"], df2[\"Mins\"]).alias('VT_Date_Time'), df2.Violation_Time )"
   ]
  },
  {
   "cell_type": "code",
   "execution_count": 88,
   "metadata": {},
   "outputs": [
    {
     "name": "stdout",
     "output_type": "stream",
     "text": [
      "+------------+-----+----+----+--------------+\n",
      "|VT_Date_Time|hours|Mins|AMPM|Violation_Time|\n",
      "+------------+-----+----+----+--------------+\n",
      "|       12:25|   12|  25|  AM|         1225A|\n",
      "|       18:25|   18|  25|  PM|         0625P|\n",
      "|       17:45|   17|  45|  PM|         0545P|\n",
      "|       12:25|   12|  25|  AM|         1225A|\n",
      "|        9:05|    9|  05|  AM|         0905A|\n",
      "+------------+-----+----+----+--------------+\n",
      "only showing top 5 rows\n",
      "\n"
     ]
    }
   ],
   "source": [
    "df2.select(df2[\"VT_Date_Time\"],df2[\"hours\"],df2[\"Mins\"], df2[\"AMPM\"],df2[\"Violation_Time\"]).show(5)"
   ]
  },
  {
   "cell_type": "markdown",
   "metadata": {},
   "source": [
    "Now VT_Date_Time is coming in 24 hours time format. I will convert into string format to timestamp format."
   ]
  },
  {
   "cell_type": "code",
   "execution_count": 89,
   "metadata": {},
   "outputs": [
    {
     "name": "stdout",
     "output_type": "stream",
     "text": [
      "root\n",
      " |-- Summons_Number: long (nullable = true)\n",
      " |-- Plate_ID: string (nullable = true)\n",
      " |-- Registration_State: string (nullable = true)\n",
      " |-- Issue_Date: timestamp (nullable = true)\n",
      " |-- Violation_Code: integer (nullable = true)\n",
      " |-- Vehicle_Body_Type: string (nullable = true)\n",
      " |-- Vehicle_Make: string (nullable = true)\n",
      " |-- Violation_Precinct: integer (nullable = true)\n",
      " |-- Issuer_Precinct: integer (nullable = true)\n",
      " |-- hours: integer (nullable = true)\n",
      " |-- Mins: string (nullable = true)\n",
      " |-- AMPM: string (nullable = false)\n",
      " |-- VT_Date_Time: string (nullable = false)\n",
      " |-- Violation_Time: string (nullable = true)\n",
      "\n"
     ]
    }
   ],
   "source": [
    "df2.printSchema()"
   ]
  },
  {
   "cell_type": "code",
   "execution_count": 35,
   "metadata": {},
   "outputs": [],
   "source": [
    "df2 = df2.withColumn(\"VT_Date_Time\", to_timestamp(df2['VT_Date_Time'] , 'HH:mm'))"
   ]
  },
  {
   "cell_type": "code",
   "execution_count": 91,
   "metadata": {},
   "outputs": [
    {
     "name": "stdout",
     "output_type": "stream",
     "text": [
      "root\n",
      " |-- Summons_Number: long (nullable = true)\n",
      " |-- Plate_ID: string (nullable = true)\n",
      " |-- Registration_State: string (nullable = true)\n",
      " |-- Issue_Date: timestamp (nullable = true)\n",
      " |-- Violation_Code: integer (nullable = true)\n",
      " |-- Vehicle_Body_Type: string (nullable = true)\n",
      " |-- Vehicle_Make: string (nullable = true)\n",
      " |-- Violation_Precinct: integer (nullable = true)\n",
      " |-- Issuer_Precinct: integer (nullable = true)\n",
      " |-- hours: integer (nullable = true)\n",
      " |-- Mins: string (nullable = true)\n",
      " |-- AMPM: string (nullable = false)\n",
      " |-- VT_Date_Time: timestamp (nullable = true)\n",
      " |-- Violation_Time: string (nullable = true)\n",
      "\n"
     ]
    }
   ],
   "source": [
    "df2.printSchema()"
   ]
  },
  {
   "cell_type": "markdown",
   "metadata": {},
   "source": [
    "Now VT_Date_Time is timestamp column."
   ]
  },
  {
   "cell_type": "markdown",
   "metadata": {},
   "source": [
    "C. Divide 24 hours into six equal discrete bins of time. Choose the intervals as you see fit. For each of these groups, find the three most commonly occurring violations."
   ]
  },
  {
   "cell_type": "code",
   "execution_count": 36,
   "metadata": {},
   "outputs": [],
   "source": [
    "tt = df2"
   ]
  },
  {
   "cell_type": "code",
   "execution_count": 37,
   "metadata": {},
   "outputs": [],
   "source": [
    "df2 = df2.select(\n",
    "    df2[\"Summons_Number\"].alias(\"Summons_Number\"),\n",
    "    df2[\"Plate_ID\"].alias(\"Plate_ID\"),\n",
    "    df2[\"Registration_State\"].alias(\"Registration_State\"),\n",
    "    df2[\"Issue_Date\"].alias(\"Issue_Date\"),\n",
    "    df2[\"Violation_Code\"].alias(\"Violation_Code\"),\n",
    "    df2[\"Vehicle_Body_Type\"].alias(\"Vehicle_Body_Type\"),\n",
    "    df2[\"Vehicle_Make\"].alias(\"Vehicle_Make\"),\n",
    "    df2[\"Violation_Precinct\"].alias(\"Violation_Precinct\"),\n",
    "    df2[\"Issuer_Precinct\"].alias(\"Issuer_Precinct\"),\n",
    "    df2[\"hours\"].alias(\"hours\"),\n",
    "    df2[\"Mins\"].alias(\"Mins\"),\n",
    "    df2[\"AMPM\"].alias(\"AMPM\"),\n",
    "    df2[\"hours\"].alias(\"h\"),\n",
    "    df2[\"Mins\"].alias(\"m\"),\n",
    "    df2[\"VT_Date_Time\"].alias(\"VT_Date_Time\"),\n",
    "    df2[\"Violation_Time\"].alias(\"Violation_Time\"))\\\n",
    "  .selectExpr(\n",
    "    \"Summons_Number\",\n",
    "    \"Plate_ID\",\n",
    "    \"Registration_State\",\n",
    "    \"Issue_Date\",\n",
    "    \"Violation_Code\",\n",
    "    \"Vehicle_Body_Type\",\n",
    "    \"Vehicle_Make\",\n",
    "    \"Violation_Precinct\",\n",
    "    \"Issuer_Precinct\",\n",
    "    \"hours\",\n",
    "    \"Mins\",\n",
    "    \"AMPM\",\n",
    "    \"h*60+m\",\n",
    "    \"VT_Date_Time\",\n",
    "    \"Violation_Time\")"
   ]
  },
  {
   "cell_type": "code",
   "execution_count": 94,
   "metadata": {},
   "outputs": [
    {
     "name": "stdout",
     "output_type": "stream",
     "text": [
      "root\n",
      " |-- Summons_Number: long (nullable = true)\n",
      " |-- Plate_ID: string (nullable = true)\n",
      " |-- Registration_State: string (nullable = true)\n",
      " |-- Issue_Date: timestamp (nullable = true)\n",
      " |-- Violation_Code: integer (nullable = true)\n",
      " |-- Vehicle_Body_Type: string (nullable = true)\n",
      " |-- Vehicle_Make: string (nullable = true)\n",
      " |-- Violation_Precinct: integer (nullable = true)\n",
      " |-- Issuer_Precinct: integer (nullable = true)\n",
      " |-- hours: integer (nullable = true)\n",
      " |-- Mins: string (nullable = true)\n",
      " |-- AMPM: string (nullable = false)\n",
      " |-- ((h * 60) + m): double (nullable = true)\n",
      " |-- VT_Date_Time: timestamp (nullable = true)\n",
      " |-- Violation_Time: string (nullable = true)\n",
      "\n"
     ]
    }
   ],
   "source": [
    "df2.printSchema()"
   ]
  },
  {
   "cell_type": "code",
   "execution_count": 38,
   "metadata": {},
   "outputs": [],
   "source": [
    "tt = df2"
   ]
  },
  {
   "cell_type": "code",
   "execution_count": 39,
   "metadata": {},
   "outputs": [],
   "source": [
    "df2 = df2.withColumn(\"Total_Mins\", col(\"((h * 60) + m)\").cast(\"int\"))"
   ]
  },
  {
   "cell_type": "code",
   "execution_count": 97,
   "metadata": {},
   "outputs": [
    {
     "name": "stdout",
     "output_type": "stream",
     "text": [
      "root\n",
      " |-- Summons_Number: long (nullable = true)\n",
      " |-- Plate_ID: string (nullable = true)\n",
      " |-- Registration_State: string (nullable = true)\n",
      " |-- Issue_Date: timestamp (nullable = true)\n",
      " |-- Violation_Code: integer (nullable = true)\n",
      " |-- Vehicle_Body_Type: string (nullable = true)\n",
      " |-- Vehicle_Make: string (nullable = true)\n",
      " |-- Violation_Precinct: integer (nullable = true)\n",
      " |-- Issuer_Precinct: integer (nullable = true)\n",
      " |-- hours: integer (nullable = true)\n",
      " |-- Mins: string (nullable = true)\n",
      " |-- AMPM: string (nullable = false)\n",
      " |-- ((h * 60) + m): double (nullable = true)\n",
      " |-- VT_Date_Time: timestamp (nullable = true)\n",
      " |-- Violation_Time: string (nullable = true)\n",
      " |-- Total_Mins: integer (nullable = true)\n",
      "\n"
     ]
    }
   ],
   "source": [
    "df2.printSchema()"
   ]
  },
  {
   "cell_type": "code",
   "execution_count": 98,
   "metadata": {},
   "outputs": [
    {
     "name": "stdout",
     "output_type": "stream",
     "text": [
      "+--------------+----------+\n",
      "|((h * 60) + m)|Total_Mins|\n",
      "+--------------+----------+\n",
      "|         828.0|       828|\n",
      "|        1347.0|      1347|\n",
      "|         935.0|       935|\n",
      "|         644.0|       644|\n",
      "|         215.0|       215|\n",
      "|        1469.0|      1469|\n",
      "|         945.0|       945|\n",
      "|         602.0|       602|\n",
      "|         443.0|       443|\n",
      "|         606.0|       606|\n",
      "+--------------+----------+\n",
      "only showing top 10 rows\n",
      "\n"
     ]
    }
   ],
   "source": [
    "df2.select(df2[\"((h * 60) + m)\"], df2[\"Total_Mins\"]).show(10)"
   ]
  },
  {
   "cell_type": "markdown",
   "metadata": {},
   "source": [
    "now dropping ((h * 60) + m) column in df2 dataframe."
   ]
  },
  {
   "cell_type": "code",
   "execution_count": 40,
   "metadata": {},
   "outputs": [],
   "source": [
    "df2 = df2.drop(\"((h * 60) + m)\")"
   ]
  },
  {
   "cell_type": "code",
   "execution_count": 100,
   "metadata": {},
   "outputs": [
    {
     "name": "stdout",
     "output_type": "stream",
     "text": [
      "root\n",
      " |-- Summons_Number: long (nullable = true)\n",
      " |-- Plate_ID: string (nullable = true)\n",
      " |-- Registration_State: string (nullable = true)\n",
      " |-- Issue_Date: timestamp (nullable = true)\n",
      " |-- Violation_Code: integer (nullable = true)\n",
      " |-- Vehicle_Body_Type: string (nullable = true)\n",
      " |-- Vehicle_Make: string (nullable = true)\n",
      " |-- Violation_Precinct: integer (nullable = true)\n",
      " |-- Issuer_Precinct: integer (nullable = true)\n",
      " |-- hours: integer (nullable = true)\n",
      " |-- Mins: string (nullable = true)\n",
      " |-- AMPM: string (nullable = false)\n",
      " |-- VT_Date_Time: timestamp (nullable = true)\n",
      " |-- Violation_Time: string (nullable = true)\n",
      " |-- Total_Mins: integer (nullable = true)\n",
      "\n"
     ]
    }
   ],
   "source": [
    "df2.printSchema()"
   ]
  },
  {
   "cell_type": "code",
   "execution_count": 41,
   "metadata": {},
   "outputs": [],
   "source": [
    "df2.registerTempTable(\"df2_table\")"
   ]
  },
  {
   "cell_type": "code",
   "execution_count": 42,
   "metadata": {},
   "outputs": [],
   "source": [
    "df2 = df2.withColumn(\"Bins\",expr(\"CASE WHEN Total_Mins > 0 and Total_Mins < 240 THEN  'bin1' WHEN Total_Mins >= 240 and Total_Mins < 480 THEN  'bin2' WHEN Total_Mins >= 480 and Total_Mins < 720 THEN  'bin3' WHEN Total_Mins >= 720 and Total_Mins < 960 THEN  'bin4' WHEN Total_Mins >= 960 and Total_Mins < 1200 THEN  'bin5' WHEN Total_Mins >= 1200 THEN  'bin6' ELSE 'other' END AS Bins\"))"
   ]
  },
  {
   "cell_type": "code",
   "execution_count": 106,
   "metadata": {},
   "outputs": [
    {
     "name": "stdout",
     "output_type": "stream",
     "text": [
      "root\n",
      " |-- Summons_Number: long (nullable = true)\n",
      " |-- Plate_ID: string (nullable = true)\n",
      " |-- Registration_State: string (nullable = true)\n",
      " |-- Issue_Date: timestamp (nullable = true)\n",
      " |-- Violation_Code: integer (nullable = true)\n",
      " |-- Vehicle_Body_Type: string (nullable = true)\n",
      " |-- Vehicle_Make: string (nullable = true)\n",
      " |-- Violation_Precinct: integer (nullable = true)\n",
      " |-- Issuer_Precinct: integer (nullable = true)\n",
      " |-- hours: integer (nullable = true)\n",
      " |-- Mins: string (nullable = true)\n",
      " |-- AMPM: string (nullable = false)\n",
      " |-- VT_Date_Time: timestamp (nullable = true)\n",
      " |-- Violation_Time: string (nullable = true)\n",
      " |-- Total_Mins: integer (nullable = true)\n",
      " |-- Bins: string (nullable = false)\n",
      "\n"
     ]
    }
   ],
   "source": [
    "df2.printSchema()"
   ]
  },
  {
   "cell_type": "code",
   "execution_count": 43,
   "metadata": {},
   "outputs": [],
   "source": [
    "tt = df2"
   ]
  },
  {
   "cell_type": "code",
   "execution_count": 105,
   "metadata": {},
   "outputs": [
    {
     "name": "stdout",
     "output_type": "stream",
     "text": [
      "+--------------+--------+------------------+-------------------+--------------+-----------------+------------+------------------+---------------+-----+----+----+-------------------+--------------+----------+\n",
      "|Summons_Number|Plate_ID|Registration_State|         Issue_Date|Violation_Code|Vehicle_Body_Type|Vehicle_Make|Violation_Precinct|Issuer_Precinct|hours|Mins|AMPM|       VT_Date_Time|Violation_Time|Total_Mins|\n",
      "+--------------+--------+------------------+-------------------+--------------+-----------------+------------+------------------+---------------+-----+----+----+-------------------+--------------+----------+\n",
      "|    1076793800| 55645MJ|                NY|2016-09-13 00:00:00|            17|              VAN|       DODGE|                19|            335|   13|  48|  PM|1970-01-01 13:48:00|         0148P|       828|\n",
      "|    1255357137| DOO3906|                OH|2016-07-29 00:00:00|            40|              nan|       HONDA|                43|             43|   22|  27|  PM|1970-01-01 22:27:00|         1027P|      1347|\n",
      "|    1333624815| KDX1089|                PA|2016-07-06 00:00:00|            20|              SDN|       CHRYS|                84|            730|   15|  35|  PM|1970-01-01 15:35:00|         0335P|       935|\n",
      "+--------------+--------+------------------+-------------------+--------------+-----------------+------------+------------------+---------------+-----+----+----+-------------------+--------------+----------+\n",
      "only showing top 3 rows\n",
      "\n"
     ]
    }
   ],
   "source": [
    "spark.sql(\"SELECT * FROM df2_table\").show(3)"
   ]
  },
  {
   "cell_type": "code",
   "execution_count": 155,
   "metadata": {},
   "outputs": [],
   "source": [
    "df2 = df2.drop(df2.Bins == \"other\")"
   ]
  },
  {
   "cell_type": "code",
   "execution_count": 154,
   "metadata": {},
   "outputs": [
    {
     "name": "stdout",
     "output_type": "stream",
     "text": [
      "+--------------+\n",
      "|(Bins = other)|\n",
      "+--------------+\n",
      "|         false|\n",
      "|         false|\n",
      "|         false|\n",
      "|         false|\n",
      "|         false|\n",
      "+--------------+\n",
      "only showing top 5 rows\n",
      "\n"
     ]
    }
   ],
   "source": [
    "tt_df.filter(tt_df.Bins == \"other\").sort(tt_df.Bins).show(5)"
   ]
  },
  {
   "cell_type": "code",
   "execution_count": null,
   "metadata": {},
   "outputs": [],
   "source": []
  },
  {
   "cell_type": "code",
   "execution_count": 140,
   "metadata": {},
   "outputs": [],
   "source": [
    "df2.registerTempTable(\"df2_table\")"
   ]
  },
  {
   "cell_type": "code",
   "execution_count": 118,
   "metadata": {},
   "outputs": [],
   "source": [
    "df2_bins = spark.sql(\"SELECT Bins, count(Bins) as count_bins FROM df2_table GROUP BY Bins\")"
   ]
  },
  {
   "cell_type": "code",
   "execution_count": 110,
   "metadata": {},
   "outputs": [],
   "source": [
    "import pandas as pd\n",
    "import matplotlib.pyplot as plt"
   ]
  },
  {
   "cell_type": "code",
   "execution_count": 119,
   "metadata": {},
   "outputs": [
    {
     "data": {
      "text/plain": [
       "<Figure size 432x288 with 0 Axes>"
      ]
     },
     "metadata": {},
     "output_type": "display_data"
    },
    {
     "data": {
      "image/png": "[encoded data removed]",
      "text/plain": [
       "<Figure size 432x288 with 1 Axes>"
      ]
     },
     "metadata": {},
     "output_type": "display_data"
    }
   ],
   "source": [
    "plt.clf()\n",
    "pdDF = df2_bins.toPandas()\n",
    "pdDF.plot(x='Bins', y='count_bins', kind='bar', rot=45)\n",
    "plt.show()"
   ]
  },
  {
   "cell_type": "markdown",
   "metadata": {},
   "source": [
    "bin3 time zone has occurring more number of parking tickets.\n",
    "bin4 time zone has occurring next more number of parking tickets."
   ]
  },
  {
   "cell_type": "markdown",
   "metadata": {},
   "source": [
    "bin3 time zone is 480 mins to 720 mins. It is 8AM to 12PM."
   ]
  },
  {
   "cell_type": "markdown",
   "metadata": {},
   "source": [
    "-----------------------------------------------------------------------------------------------------------------------"
   ]
  },
  {
   "cell_type": "markdown",
   "metadata": {},
   "source": [
    "D. Now, try another direction. For the three most commonly occurring violation codes, find the most common time of the day (in terms of the bins from the previous part)."
   ]
  },
  {
   "cell_type": "markdown",
   "metadata": {},
   "source": [
    "we already know 21,36,38 are most commonly occuring violation codes."
   ]
  },
  {
   "cell_type": "code",
   "execution_count": 142,
   "metadata": {},
   "outputs": [],
   "source": [
    "df2_vc_bins = spark.sql(\"SELECT Violation_Code, Bins, count(Bins) as count_bins FROM df2_table WHERE Violation_Code in (21,36,38) GROUP BY Violation_Code, Bins \")"
   ]
  },
  {
   "cell_type": "code",
   "execution_count": 143,
   "metadata": {},
   "outputs": [
    {
     "name": "stdout",
     "output_type": "stream",
     "text": [
      "+--------------+-----+----------+\n",
      "|Violation_Code| Bins|count_bins|\n",
      "+--------------+-----+----------+\n",
      "|            21| bin2|    119467|\n",
      "|            21| bin6|    144081|\n",
      "|            21| bin3|   1182682|\n",
      "|            21| bin4|      8637|\n",
      "|            21| bin5|       551|\n",
      "|            21|other|       221|\n",
      "|            21| bin1|     72949|\n",
      "|            36| bin2|     33939|\n",
      "|            36| bin5|     26858|\n",
      "|            36| bin6|    211434|\n",
      "|            36| bin3|    751422|\n",
      "|            36| bin4|    376961|\n",
      "|            38|other|         6|\n",
      "|            38| bin3|    346518|\n",
      "|            38| bin4|    356354|\n",
      "|            38| bin5|    203232|\n",
      "|            38| bin2|      2300|\n",
      "|            38| bin1|       357|\n",
      "|            38| bin6|    153537|\n",
      "+--------------+-----+----------+\n",
      "\n"
     ]
    }
   ],
   "source": [
    "df2_vc_bins.sort(\"Violation_Code\").show()"
   ]
  },
  {
   "cell_type": "markdown",
   "metadata": {},
   "source": [
    "6. Let’s try and find some seasonality in this data:\n",
    "\n",
    "    A. First, divide the year into a certain number of seasons, and find the frequencies of tickets for each season. (Hint: Use Issue Date to segregate into seasons.)\n",
    "\n",
    "    B. Then, find the three most common violations for each of these seasons.\n",
    "    (Hint: You can use an approach similar to the one mentioned in the hint for question 4.)"
   ]
  },
  {
   "cell_type": "code",
   "execution_count": 158,
   "metadata": {},
   "outputs": [
    {
     "name": "stdout",
     "output_type": "stream",
     "text": [
      "root\n",
      " |-- Summons_Number: long (nullable = true)\n",
      " |-- Plate_ID: string (nullable = true)\n",
      " |-- Registration_State: string (nullable = true)\n",
      " |-- Issue_Date: timestamp (nullable = true)\n",
      " |-- Violation_Code: integer (nullable = true)\n",
      " |-- Vehicle_Body_Type: string (nullable = true)\n",
      " |-- Vehicle_Make: string (nullable = true)\n",
      " |-- Violation_Precinct: integer (nullable = true)\n",
      " |-- Issuer_Precinct: integer (nullable = true)\n",
      " |-- hours: integer (nullable = true)\n",
      " |-- Mins: string (nullable = true)\n",
      " |-- AMPM: string (nullable = false)\n",
      " |-- VT_Date_Time: timestamp (nullable = true)\n",
      " |-- Violation_Time: string (nullable = true)\n",
      " |-- Total_Mins: integer (nullable = true)\n",
      " |-- Bins: string (nullable = false)\n",
      "\n"
     ]
    }
   ],
   "source": [
    "df2.printSchema()"
   ]
  },
  {
   "cell_type": "code",
   "execution_count": 159,
   "metadata": {},
   "outputs": [
    {
     "name": "stdout",
     "output_type": "stream",
     "text": [
      "+-------------------+\n",
      "|         Issue_Date|\n",
      "+-------------------+\n",
      "|2017-02-03 00:00:00|\n",
      "|2016-09-14 00:00:00|\n",
      "|2017-01-20 00:00:00|\n",
      "+-------------------+\n",
      "only showing top 3 rows\n",
      "\n"
     ]
    }
   ],
   "source": [
    "spark.sql(\"SELECT Issue_Date FROM df2_table\").show(3)"
   ]
  },
  {
   "cell_type": "code",
   "execution_count": 45,
   "metadata": {},
   "outputs": [],
   "source": [
    "df6 = df2.select(df2[\"Summons_Number\"],df2[\"Plate_ID\"],df2[\"Registration_State\"],df2[\"Issue_Date\"],substring(df2.Issue_Date, 6, 2).alias('Month'),df2[\"Violation_Code\"],df2[\"Vehicle_Body_Type\"],df2[\"Vehicle_Make\"],df2[\"Violation_Precinct\"],df2[\"Issuer_Precinct\"],df2[\"hours\"],df2[\"Mins\"],df2[\"AMPM\"],df2[\"VT_Date_Time\"], df2[\"Violation_Time\"], df2[\"Total_Mins\"], df2[\"Bins\"])"
   ]
  },
  {
   "cell_type": "code",
   "execution_count": 165,
   "metadata": {},
   "outputs": [
    {
     "name": "stdout",
     "output_type": "stream",
     "text": [
      "+-----+\n",
      "|Month|\n",
      "+-----+\n",
      "|   09|\n",
      "|   11|\n",
      "|   07|\n",
      "|   03|\n",
      "|   08|\n",
      "|   10|\n",
      "|   04|\n",
      "|   02|\n",
      "|   07|\n",
      "|   01|\n",
      "+-----+\n",
      "only showing top 10 rows\n",
      "\n"
     ]
    }
   ],
   "source": [
    "df6.select(df6.Month).show(10)"
   ]
  },
  {
   "cell_type": "code",
   "execution_count": 46,
   "metadata": {},
   "outputs": [],
   "source": [
    "df6 = df6.na.drop()"
   ]
  },
  {
   "cell_type": "code",
   "execution_count": 47,
   "metadata": {},
   "outputs": [],
   "source": [
    "df6.registerTempTable(\"df6_table\")"
   ]
  },
  {
   "cell_type": "code",
   "execution_count": 48,
   "metadata": {},
   "outputs": [
    {
     "name": "stdout",
     "output_type": "stream",
     "text": [
      "+-----+\n",
      "|Month|\n",
      "+-----+\n",
      "|   07|\n",
      "|   11|\n",
      "|   01|\n",
      "|   09|\n",
      "|   05|\n",
      "|   08|\n",
      "|   03|\n",
      "|   02|\n",
      "|   06|\n",
      "|   10|\n",
      "|   12|\n",
      "|   04|\n",
      "+-----+\n",
      "\n"
     ]
    }
   ],
   "source": [
    "spark.sql(\"SELECT distinct(Month) FROM df6_table\").show()"
   ]
  },
  {
   "cell_type": "code",
   "execution_count": 173,
   "metadata": {},
   "outputs": [
    {
     "name": "stdout",
     "output_type": "stream",
     "text": [
      "root\n",
      " |-- Summons_Number: long (nullable = true)\n",
      " |-- Plate_ID: string (nullable = true)\n",
      " |-- Registration_State: string (nullable = true)\n",
      " |-- Issue_Date: timestamp (nullable = true)\n",
      " |-- Month: string (nullable = true)\n",
      " |-- Violation_Code: integer (nullable = true)\n",
      " |-- Vehicle_Body_Type: string (nullable = true)\n",
      " |-- Vehicle_Make: string (nullable = true)\n",
      " |-- Violation_Precinct: integer (nullable = true)\n",
      " |-- Issuer_Precinct: integer (nullable = true)\n",
      " |-- hours: integer (nullable = true)\n",
      " |-- Mins: string (nullable = true)\n",
      " |-- AMPM: string (nullable = false)\n",
      " |-- VT_Date_Time: timestamp (nullable = true)\n",
      " |-- Violation_Time: string (nullable = true)\n",
      " |-- Total_Mins: integer (nullable = true)\n",
      " |-- Bins: string (nullable = false)\n",
      "\n"
     ]
    }
   ],
   "source": [
    "df6.printSchema()"
   ]
  },
  {
   "cell_type": "code",
   "execution_count": 49,
   "metadata": {},
   "outputs": [],
   "source": [
    "df6 = df6.withColumn(\"Month\", col(\"Month\").cast(\"int\"))"
   ]
  },
  {
   "cell_type": "code",
   "execution_count": 50,
   "metadata": {},
   "outputs": [],
   "source": [
    "df6 = df6.withColumn(\"Bins_Month\",expr(\"CASE WHEN Month > 0 and Month <= 3 THEN  'month_bin1' WHEN Month > 3 and Month <= 6 THEN  'month_bin2' WHEN Month > 6 and Month <= 9 THEN  'month_bin3' WHEN Month > 9 and Month <= 12 THEN  'month_bin4' ELSE 'other' END AS Bins_Month\"))"
   ]
  },
  {
   "cell_type": "code",
   "execution_count": 51,
   "metadata": {},
   "outputs": [],
   "source": [
    "df6.registerTempTable(\"df6_table\")"
   ]
  },
  {
   "cell_type": "code",
   "execution_count": 179,
   "metadata": {},
   "outputs": [
    {
     "name": "stdout",
     "output_type": "stream",
     "text": [
      "+----------+----------+\n",
      "|Bins_Month|count_bins|\n",
      "+----------+----------+\n",
      "|month_bin4|   2404806|\n",
      "|month_bin3|   2249517|\n",
      "|month_bin2|   2736098|\n",
      "|month_bin1|   2421726|\n",
      "+----------+----------+\n",
      "\n"
     ]
    }
   ],
   "source": [
    "spark.sql(\"SELECT Bins_Month, count(Bins_Month) as count_bins FROM df6_table GROUP BY Bins_Month\").show()"
   ]
  },
  {
   "cell_type": "markdown",
   "metadata": {},
   "source": [
    "month_bin2 season has created more number of tickets. Almost all seasons are creating number of tickets."
   ]
  },
  {
   "cell_type": "markdown",
   "metadata": {},
   "source": [
    "month_bin2 is April, May and June months."
   ]
  },
  {
   "cell_type": "code",
   "execution_count": 180,
   "metadata": {},
   "outputs": [],
   "source": [
    "df6_vc_bins = spark.sql(\"SELECT Violation_Code, Bins_Month, count(Bins_Month) as count_bins FROM df6_table WHERE Violation_Code in (21,36,38) GROUP BY Violation_Code, Bins_Month \")"
   ]
  },
  {
   "cell_type": "code",
   "execution_count": 181,
   "metadata": {},
   "outputs": [
    {
     "name": "stdout",
     "output_type": "stream",
     "text": [
      "+--------------+----------+----------+\n",
      "|Violation_Code|Bins_Month|count_bins|\n",
      "+--------------+----------+----------+\n",
      "|            21|month_bin3|    349519|\n",
      "|            21|month_bin1|    338125|\n",
      "|            21|month_bin2|    382609|\n",
      "|            21|month_bin4|    314604|\n",
      "|            36|month_bin3|    204431|\n",
      "|            36|month_bin4|    375789|\n",
      "|            36|month_bin1|    294218|\n",
      "|            36|month_bin2|    314741|\n",
      "|            38|month_bin1|    257858|\n",
      "|            38|month_bin3|    221068|\n",
      "|            38|month_bin4|    237974|\n",
      "|            38|month_bin2|    238896|\n",
      "+--------------+----------+----------+\n",
      "\n"
     ]
    }
   ],
   "source": [
    "df6_vc_bins.sort(\"Violation_Code\").show()"
   ]
  },
  {
   "cell_type": "code",
   "execution_count": 185,
   "metadata": {},
   "outputs": [],
   "source": [
    "df6_vc_month_bin1 = spark.sql(\"SELECT Violation_Code, Bins_Month, count(Violation_Code) as count_bins FROM df6_table WHERE Bins_Month = 'month_bin1' GROUP BY Violation_Code, Bins_Month \")"
   ]
  },
  {
   "cell_type": "code",
   "execution_count": 189,
   "metadata": {},
   "outputs": [
    {
     "name": "stdout",
     "output_type": "stream",
     "text": [
      "+--------------+----------+----------+\n",
      "|Violation_Code|Bins_Month|count_bins|\n",
      "+--------------+----------+----------+\n",
      "|            21|month_bin1|    338125|\n",
      "|            36|month_bin1|    294218|\n",
      "|            38|month_bin1|    257858|\n",
      "|            14|month_bin1|    211187|\n",
      "|            46|month_bin1|    140642|\n",
      "+--------------+----------+----------+\n",
      "only showing top 5 rows\n",
      "\n"
     ]
    }
   ],
   "source": [
    "df6_vc_month_bin1.sort(desc(\"count_bins\")).show(5)"
   ]
  },
  {
   "cell_type": "markdown",
   "metadata": {},
   "source": [
    "21, 36 and 38 are more frequently exists in season January to March month (month_bin1)."
   ]
  },
  {
   "cell_type": "code",
   "execution_count": 190,
   "metadata": {},
   "outputs": [],
   "source": [
    "df6_vc_month_bin2 = spark.sql(\"SELECT Violation_Code, Bins_Month, count(Violation_Code) as count_bins FROM df6_table WHERE Bins_Month = 'month_bin2' GROUP BY Violation_Code, Bins_Month \")"
   ]
  },
  {
   "cell_type": "code",
   "execution_count": 191,
   "metadata": {},
   "outputs": [
    {
     "name": "stdout",
     "output_type": "stream",
     "text": [
      "+--------------+----------+----------+\n",
      "|Violation_Code|Bins_Month|count_bins|\n",
      "+--------------+----------+----------+\n",
      "|            21|month_bin2|    382609|\n",
      "|            36|month_bin2|    314741|\n",
      "|            14|month_bin2|    246791|\n",
      "|            38|month_bin2|    238896|\n",
      "|            20|month_bin2|    166077|\n",
      "+--------------+----------+----------+\n",
      "only showing top 5 rows\n",
      "\n"
     ]
    }
   ],
   "source": [
    "df6_vc_month_bin2.sort(desc(\"count_bins\")).show(5)"
   ]
  },
  {
   "cell_type": "markdown",
   "metadata": {},
   "source": [
    "21, 36 and 14 are more frequently exists in season April to June month (month_bin2)."
   ]
  },
  {
   "cell_type": "code",
   "execution_count": 192,
   "metadata": {},
   "outputs": [],
   "source": [
    "df6_vc_month_bin3 = spark.sql(\"SELECT Violation_Code, Bins_Month, count(Violation_Code) as count_bins FROM df6_table WHERE Bins_Month = 'month_bin3' GROUP BY Violation_Code, Bins_Month \")"
   ]
  },
  {
   "cell_type": "code",
   "execution_count": 193,
   "metadata": {},
   "outputs": [
    {
     "name": "stdout",
     "output_type": "stream",
     "text": [
      "+--------------+----------+----------+\n",
      "|Violation_Code|Bins_Month|count_bins|\n",
      "+--------------+----------+----------+\n",
      "|            21|month_bin3|    349519|\n",
      "|            38|month_bin3|    221068|\n",
      "|            36|month_bin3|    204432|\n",
      "|            14|month_bin3|    190076|\n",
      "|            20|month_bin3|    133729|\n",
      "+--------------+----------+----------+\n",
      "only showing top 5 rows\n",
      "\n"
     ]
    }
   ],
   "source": [
    "df6_vc_month_bin3.sort(desc(\"count_bins\")).show(5)"
   ]
  },
  {
   "cell_type": "markdown",
   "metadata": {},
   "source": [
    "21, 38 and 36 are more frequently exists in season July to September month (month_bin3)."
   ]
  },
  {
   "cell_type": "code",
   "execution_count": 52,
   "metadata": {},
   "outputs": [],
   "source": [
    "df6_vc_month_bin4 = spark.sql(\"SELECT Violation_Code, Bins_Month, count(Violation_Code) as count_bins FROM df6_table WHERE Bins_Month = 'month_bin4' GROUP BY Violation_Code, Bins_Month \")"
   ]
  },
  {
   "cell_type": "code",
   "execution_count": 53,
   "metadata": {},
   "outputs": [
    {
     "name": "stdout",
     "output_type": "stream",
     "text": [
      "+--------------+----------+----------+\n",
      "|Violation_Code|Bins_Month|count_bins|\n",
      "+--------------+----------+----------+\n",
      "|            36|month_bin4|    375789|\n",
      "|            21|month_bin4|    314604|\n",
      "|            38|month_bin4|    237974|\n",
      "|            14|month_bin4|    190475|\n",
      "|            20|month_bin4|    137251|\n",
      "+--------------+----------+----------+\n",
      "only showing top 5 rows\n",
      "\n"
     ]
    }
   ],
   "source": [
    "df6_vc_month_bin4.sort(desc(\"count_bins\")).show(5)"
   ]
  },
  {
   "cell_type": "markdown",
   "metadata": {},
   "source": [
    "36, 21 and 38 are more frequently exists in season October to December month (month_bin4)."
   ]
  },
  {
   "cell_type": "markdown",
   "metadata": {},
   "source": []
  },
  {
   "cell_type": "markdown",
   "metadata": {},
   "source": [
    "7. The fines collected from all the instances of parking violation constitute a source of revenue for the NYC Police Department. Let’s take an example of estimating this for the three most commonly occurring codes:\n",
    "\n",
    "   A. Find the total occurrences of the three most common violation codes.\n",
    "   B. Then, visit the website:\n",
    "    http://www1.nyc.gov/site/finance/vehicles/services-violation-codes.page\n",
    "    It lists the fines associated with different violation codes. They’re divided into two categories: one for the highest-density locations in the city and the other for the rest of the city. For the sake of simplicity, take the average of the two.\n",
    "   C. Using this information, find the total amount collected for the three violation codes with the maximum tickets. State the code that has the highest total collection.\n",
    "   D. What can you intuitively infer from these findings?"
   ]
  },
  {
   "cell_type": "code",
   "execution_count": 71,
   "metadata": {},
   "outputs": [],
   "source": [
    "ddddd = spark.sql(\"SELECT distinct(Violation_Code) as vc, count(Violation_Code) as cnt_vc FROM df6_table GROUP BY Violation_Code\")"
   ]
  },
  {
   "cell_type": "code",
   "execution_count": 72,
   "metadata": {},
   "outputs": [],
   "source": [
    "df6 = df6.withColumn(\"code_amount\", expr(\"CASE WHEN Violation_Code = 1 THEN 515 WHEN Violation_Code = 2 THEN 515 WHEN Violation_Code = 3 THEN 515 WHEN Violation_Code = 4 THEN 115 WHEN Violation_Code = 5 THEN 515 WHEN Violation_Code = 6 THEN 390 WHEN Violation_Code = 7 THEN 50 WHEN Violation_Code = 8 THEN 115 WHEN Violation_Code = 9 THEN 115 WHEN Violation_Code = 10 THEN 115 WHEN Violation_Code = 11 THEN 115 WHEN Violation_Code = 12 THEN 1 WHEN Violation_Code = 13 THEN 115 WHEN Violation_Code = 14 THEN 115 WHEN Violation_Code = 15 THEN 95 WHEN Violation_Code = 16 THEN 95 WHEN Violation_Code = 17 THEN 95 WHEN Violation_Code = 18 THEN 115 WHEN Violation_Code = 19 THEN 115 WHEN Violation_Code = 20 THEN 62.5 WHEN Violation_Code = 21 THEN 55 WHEN Violation_Code = 22 THEN 115 WHEN Violation_Code = 23 THEN 1 WHEN Violation_Code = 24 THEN 1 WHEN Violation_Code = 25 THEN 115 WHEN Violation_Code = 26 THEN 115 WHEN Violation_Code = 27 THEN 180 WHEN Violation_Code = 28 THEN 95 WHEN Violation_Code = 29 THEN 515 WHEN Violation_Code = 30 THEN 515 WHEN Violation_Code = 31 THEN 115 WHEN Violation_Code = 32 THEN 50 WHEN Violation_Code = 33 THEN 1 WHEN Violation_Code = 34 THEN 1 WHEN Violation_Code = 35 THEN 50 WHEN Violation_Code = 36 THEN 50 WHEN Violation_Code = 37 THEN 50 WHEN Violation_Code = 38 THEN 50 WHEN Violation_Code = 39 THEN 62.5 WHEN Violation_Code = 40 THEN 115 WHEN Violation_Code = 41 THEN 1 WHEN Violation_Code = 42 THEN 50 WHEN Violation_Code = 43 THEN 1 WHEN Violation_Code = 44 THEN 50 WHEN Violation_Code = 45 THEN 115 WHEN Violation_Code = 46 THEN 115 WHEN Violation_Code = 47 THEN 115 WHEN Violation_Code = 48 THEN 115 WHEN Violation_Code = 49 THEN 95 WHEN Violation_Code = 50 THEN 115 WHEN Violation_Code = 51 THEN 115 WHEN Violation_Code = 52 THEN 115 WHEN Violation_Code = 53 THEN 115 WHEN Violation_Code = 54 THEN 115 WHEN Violation_Code = 55 THEN 115 WHEN Violation_Code = 56 THEN 115 WHEN Violation_Code = 57 THEN 65 WHEN Violation_Code = 58 THEN 55 WHEN Violation_Code = 59 THEN 115 WHEN Violation_Code = 60 THEN 55 WHEN Violation_Code = 61 THEN 55 WHEN Violation_Code = 62 THEN 55 WHEN Violation_Code = 63 THEN 95 WHEN Violation_Code = 64 THEN 95 WHEN Violation_Code = 65 THEN 95 WHEN Violation_Code = 66 THEN 55 WHEN Violation_Code = 67 THEN 165 WHEN Violation_Code = 68 THEN 65 WHEN Violation_Code = 69 THEN 65 WHEN Violation_Code = 70 THEN 65 WHEN Violation_Code = 71 THEN 65 WHEN Violation_Code = 72 THEN 65 WHEN Violation_Code = 73 THEN 65 WHEN Violation_Code = 74 THEN 65 WHEN Violation_Code = 75 THEN 95 WHEN Violation_Code = 76 THEN 1 WHEN Violation_Code = 77 THEN 55 WHEN Violation_Code = 78 THEN 65 WHEN Violation_Code = 79 THEN 115 WHEN Violation_Code = 80 THEN 55 WHEN Violation_Code = 81 THEN 95 WHEN Violation_Code = 82 THEN 115 WHEN Violation_Code = 83 THEN 65 WHEN Violation_Code = 84 THEN 55 WHEN Violation_Code = 85 THEN 65 WHEN Violation_Code = 86 THEN 115 WHEN Violation_Code = 87 THEN 1 WHEN Violation_Code = 88 THEN 1 WHEN Violation_Code = 89 THEN 115 WHEN Violation_Code = 90 THEN 1 WHEN Violation_Code = 91 THEN 55 WHEN Violation_Code = 92 THEN 55 WHEN Violation_Code = 93 THEN 65 WHEN Violation_Code = 94 THEN 150 WHEN Violation_Code = 95 THEN 1 WHEN Violation_Code = 96 THEN 95 WHEN Violation_Code = 97 THEN 55 WHEN Violation_Code = 98 THEN 95 WHEN Violation_Code = 99 THEN 1 ELSE 1 END AS code_amount\"))"
   ]
  },
  {
   "cell_type": "code",
   "execution_count": 73,
   "metadata": {},
   "outputs": [
    {
     "name": "stdout",
     "output_type": "stream",
     "text": [
      "root\n",
      " |-- Summons_Number: long (nullable = true)\n",
      " |-- Plate_ID: string (nullable = true)\n",
      " |-- Registration_State: string (nullable = true)\n",
      " |-- Issue_Date: timestamp (nullable = true)\n",
      " |-- Month: integer (nullable = true)\n",
      " |-- Violation_Code: integer (nullable = true)\n",
      " |-- Vehicle_Body_Type: string (nullable = true)\n",
      " |-- Vehicle_Make: string (nullable = true)\n",
      " |-- Violation_Precinct: integer (nullable = true)\n",
      " |-- Issuer_Precinct: integer (nullable = true)\n",
      " |-- hours: integer (nullable = true)\n",
      " |-- Mins: string (nullable = true)\n",
      " |-- AMPM: string (nullable = false)\n",
      " |-- VT_Date_Time: timestamp (nullable = true)\n",
      " |-- Violation_Time: string (nullable = true)\n",
      " |-- Total_Mins: integer (nullable = true)\n",
      " |-- Bins: string (nullable = false)\n",
      " |-- Bins_Month: string (nullable = false)\n",
      " |-- code_amount: decimal(11,1) (nullable = false)\n",
      "\n"
     ]
    }
   ],
   "source": [
    "df6.printSchema()"
   ]
  },
  {
   "cell_type": "code",
   "execution_count": 75,
   "metadata": {},
   "outputs": [],
   "source": [
    "df6.registerTempTable(\"df7_table\")"
   ]
  },
  {
   "cell_type": "code",
   "execution_count": 80,
   "metadata": {},
   "outputs": [],
   "source": [
    "df6 = df6.select(\n",
    "    df6[\"Summons_Number\"].alias(\"Summons_Number\"),\n",
    "    df6[\"Plate_ID\"].alias(\"Plate_ID\"),\n",
    "    df6[\"Registration_State\"].alias(\"Registration_State\"),\n",
    "    df6[\"Issue_Date\"].alias(\"Issue_Date\"),\n",
    "    df6[\"Violation_Code\"].alias(\"Violation_Code\"),\n",
    "    df6[\"Vehicle_Body_Type\"].alias(\"Vehicle_Body_Type\"),\n",
    "    df6[\"Vehicle_Make\"].alias(\"Vehicle_Make\"),\n",
    "    df6[\"Violation_Precinct\"].alias(\"Violation_Precinct\"),\n",
    "    df6[\"Issuer_Precinct\"].alias(\"Issuer_Precinct\"),\n",
    "    df6[\"hours\"].alias(\"hours\"),\n",
    "    df6[\"Mins\"].alias(\"Mins\"),\n",
    "    df6[\"AMPM\"].alias(\"AMPM\"),\n",
    "    df6[\"hours\"].alias(\"h\"),\n",
    "    df6[\"Mins\"].alias(\"m\"),\n",
    "    df6[\"VT_Date_Time\"].alias(\"VT_Date_Time\"),\n",
    "    df6[\"Violation_Time\"].alias(\"Violation_Time\"),\n",
    "    df6[\"code_amount\"].alias(\"ca\"))\\\n",
    "  .selectExpr(\n",
    "    \"Summons_Number\",\n",
    "    \"Plate_ID\",\n",
    "    \"Registration_State\",\n",
    "    \"Issue_Date\",\n",
    "    \"Violation_Code\",\n",
    "    \"Vehicle_Body_Type\",\n",
    "    \"Vehicle_Make\",\n",
    "    \"Violation_Precinct\",\n",
    "    \"Issuer_Precinct\",\n",
    "    \"hours\",\n",
    "    \"Mins\",\n",
    "    \"AMPM\",    \n",
    "    \"VT_Date_Time\",\n",
    "    \"Violation_Time\",\n",
    "    \"Violation_Code*ca\",)"
   ]
  },
  {
   "cell_type": "code",
   "execution_count": 81,
   "metadata": {},
   "outputs": [
    {
     "name": "stdout",
     "output_type": "stream",
     "text": [
      "root\n",
      " |-- Summons_Number: long (nullable = true)\n",
      " |-- Plate_ID: string (nullable = true)\n",
      " |-- Registration_State: string (nullable = true)\n",
      " |-- Issue_Date: timestamp (nullable = true)\n",
      " |-- Violation_Code: integer (nullable = true)\n",
      " |-- Vehicle_Body_Type: string (nullable = true)\n",
      " |-- Vehicle_Make: string (nullable = true)\n",
      " |-- Violation_Precinct: integer (nullable = true)\n",
      " |-- Issuer_Precinct: integer (nullable = true)\n",
      " |-- hours: integer (nullable = true)\n",
      " |-- Mins: string (nullable = true)\n",
      " |-- AMPM: string (nullable = false)\n",
      " |-- VT_Date_Time: timestamp (nullable = true)\n",
      " |-- Violation_Time: string (nullable = true)\n",
      " |-- (Violation_Code * ca): decimal(22,1) (nullable = true)\n",
      "\n"
     ]
    }
   ],
   "source": [
    "df6.printSchema()"
   ]
  },
  {
   "cell_type": "code",
   "execution_count": 87,
   "metadata": {},
   "outputs": [
    {
     "name": "stdout",
     "output_type": "stream",
     "text": [
      "+--------------+----------+------------------+-------------------+--------------+-----------------+------------+------------------+---------------+-----+----+----+-------------------+--------------+---------------------+\n",
      "|Summons_Number|  Plate_ID|Registration_State|         Issue_Date|Violation_Code|Vehicle_Body_Type|Vehicle_Make|Violation_Precinct|Issuer_Precinct|hours|Mins|AMPM|       VT_Date_Time|Violation_Time|(Violation_Code * ca)|\n",
      "+--------------+----------+------------------+-------------------+--------------+-----------------+------------+------------------+---------------+-----+----+----+-------------------+--------------+---------------------+\n",
      "|    1082331053|   GUR1870|                NY|2016-09-05 00:00:00|            17|              SDN|       HYUND|                71|            976|    7|  30|  AM|1970-01-01 07:30:00|         0730A|               1615.0|\n",
      "|    1158077610|BLANKPLATE|                NY|2016-11-28 00:00:00|            77|              BUS|       INTER|               101|            968|   10|  20|  AM|1970-01-01 10:20:00|         1020A|               4235.0|\n",
      "|    1256447663|  T513505C|                NY|2016-07-26 00:00:00|            20|             TAXI|         nan|               110|            976|    6|  39|  AM|1970-01-01 06:39:00|         0639A|               1250.0|\n",
      "+--------------+----------+------------------+-------------------+--------------+-----------------+------------+------------------+---------------+-----+----+----+-------------------+--------------+---------------------+\n",
      "only showing top 3 rows\n",
      "\n"
     ]
    }
   ],
   "source": [
    "df6.show(3)"
   ]
  },
  {
   "cell_type": "code",
   "execution_count": 88,
   "metadata": {},
   "outputs": [],
   "source": [
    "df6 = df6.withColumn(\"total_amt\", col(\"(Violation_Code * ca)\").cast(\"float\"))"
   ]
  },
  {
   "cell_type": "code",
   "execution_count": 89,
   "metadata": {},
   "outputs": [
    {
     "name": "stdout",
     "output_type": "stream",
     "text": [
      "root\n",
      " |-- Summons_Number: long (nullable = true)\n",
      " |-- Plate_ID: string (nullable = true)\n",
      " |-- Registration_State: string (nullable = true)\n",
      " |-- Issue_Date: timestamp (nullable = true)\n",
      " |-- Violation_Code: integer (nullable = true)\n",
      " |-- Vehicle_Body_Type: string (nullable = true)\n",
      " |-- Vehicle_Make: string (nullable = true)\n",
      " |-- Violation_Precinct: integer (nullable = true)\n",
      " |-- Issuer_Precinct: integer (nullable = true)\n",
      " |-- hours: integer (nullable = true)\n",
      " |-- Mins: string (nullable = true)\n",
      " |-- AMPM: string (nullable = false)\n",
      " |-- VT_Date_Time: timestamp (nullable = true)\n",
      " |-- Violation_Time: string (nullable = true)\n",
      " |-- (Violation_Code * ca): decimal(22,1) (nullable = true)\n",
      " |-- total_amt: float (nullable = true)\n",
      "\n"
     ]
    }
   ],
   "source": [
    "df6.printSchema()"
   ]
  },
  {
   "cell_type": "code",
   "execution_count": 94,
   "metadata": {},
   "outputs": [],
   "source": [
    "df6.registerTempTable(\"df7_table\")"
   ]
  },
  {
   "cell_type": "code",
   "execution_count": 95,
   "metadata": {},
   "outputs": [
    {
     "name": "stdout",
     "output_type": "stream",
     "text": [
      "+--------------+----------+------------------+-------------------+--------------+-----------------+------------+------------------+---------------+-----+----+----+-------------------+--------------+---------------------+---------+\n",
      "|Summons_Number|  Plate_ID|Registration_State|         Issue_Date|Violation_Code|Vehicle_Body_Type|Vehicle_Make|Violation_Precinct|Issuer_Precinct|hours|Mins|AMPM|       VT_Date_Time|Violation_Time|(Violation_Code * ca)|total_amt|\n",
      "+--------------+----------+------------------+-------------------+--------------+-----------------+------------+------------------+---------------+-----+----+----+-------------------+--------------+---------------------+---------+\n",
      "|    8574802270|   98826MB|                NY|2017-06-16 00:00:00|             0|             DELV|       ISUZU|               115|            115|   10|  03|  AM|1970-01-01 10:03:00|         1003A|                  0.0|      0.0|\n",
      "|    8558911046|BLANKPLATE|                NY|2017-06-23 00:00:00|             0|              nan|         nan|                 0|              0|   13|  25|  PM|1970-01-01 13:25:00|         0125P|                  0.0|      0.0|\n",
      "|    8544900318|   30975JX|                NY|2017-04-07 00:00:00|             0|              VAN|       WORKH|                63|             63|    9|  38|  AM|1970-01-01 09:38:00|         0938A|                  0.0|      0.0|\n",
      "|    8546854865|BLANKPLATE|                NY|2017-05-13 00:00:00|             0|              nan|         nan|                 0|              0|   10|  48|  AM|1970-01-01 10:48:00|         1048A|                  0.0|      0.0|\n",
      "|    1371971043|    FS846N|                NY|2016-06-30 00:00:00|             0|             TWOD|       CHEVR|               122|            835|   12|  42|  AM|1970-01-01 12:42:00|         1242A|                  0.0|      0.0|\n",
      "|    8557750274|BLANKPLATE|                NY|2017-04-24 00:00:00|             0|              nan|         nan|                 0|              0|   13|  56|  PM|1970-01-01 13:56:00|         0156P|                  0.0|      0.0|\n",
      "|    8528050117|BLANKPLATE|                NY|2017-02-23 00:00:00|             0|              nan|         nan|                 0|              0|    9|  10|  AM|1970-01-01 09:10:00|         0910A|                  0.0|      0.0|\n",
      "|    8483103734|   67328MJ|                NY|2017-01-17 00:00:00|             0|             UTIL|       INTER|                 0|              0|   13|  35|  PM|1970-01-01 13:35:00|         0135P|                  0.0|      0.0|\n",
      "|    8525002460|BLANKPLATE|                NY|2017-03-26 00:00:00|             0|              nan|         nan|                52|             52|    5|  27|  AM|1970-01-01 05:27:00|         0527A|                  0.0|      0.0|\n",
      "|    8558104906|BLANKPLATE|                NY|2017-05-13 00:00:00|             0|              nan|         nan|                 0|              0|   11|  54|  AM|1970-01-01 11:54:00|         1154A|                  0.0|      0.0|\n",
      "+--------------+----------+------------------+-------------------+--------------+-----------------+------------+------------------+---------------+-----+----+----+-------------------+--------------+---------------------+---------+\n",
      "only showing top 10 rows\n",
      "\n"
     ]
    }
   ],
   "source": [
    "spark.sql(\"SELECT * FROM df7_table\").sort('Violation_Code').show(10)"
   ]
  },
  {
   "cell_type": "code",
   "execution_count": 97,
   "metadata": {},
   "outputs": [],
   "source": [
    "df7_total_amt = spark.sql(\"SELECT Violation_Code, sum(total_amt) as sum_total_amt FROM df7_table GROUP BY Violation_Code\")"
   ]
  },
  {
   "cell_type": "code",
   "execution_count": 99,
   "metadata": {},
   "outputs": [
    {
     "name": "stdout",
     "output_type": "stream",
     "text": [
      "+--------------+-------------+\n",
      "|Violation_Code|sum_total_amt|\n",
      "+--------------+-------------+\n",
      "|            46|  2.8754324E9|\n",
      "|            40|    2.25722E9|\n",
      "|            71|2.192037315E9|\n",
      "|            36|   2.140524E9|\n",
      "|            38|  1.8160105E9|\n",
      "+--------------+-------------+\n",
      "only showing top 5 rows\n",
      "\n"
     ]
    }
   ],
   "source": [
    "df7_total_amt.select(df7_total_amt.Violation_Code, df7_total_amt.sum_total_amt).sort(desc('sum_total_amt')).show(5)"
   ]
  },
  {
   "cell_type": "markdown",
   "metadata": {},
   "source": [
    "46, 40 and 71 violation codes are getting more amount to the police department."
   ]
  },
  {
   "cell_type": "code",
   "execution_count": 103,
   "metadata": {},
   "outputs": [],
   "source": [
    "df7_total_amt.registerTempTable(\"df7_3_table\")"
   ]
  },
  {
   "cell_type": "code",
   "execution_count": 104,
   "metadata": {},
   "outputs": [
    {
     "name": "stdout",
     "output_type": "stream",
     "text": [
      "+-------------------+\n",
      "|3_highest_total_amt|\n",
      "+-------------------+\n",
      "|    2.5066670939E10|\n",
      "+-------------------+\n",
      "\n"
     ]
    }
   ],
   "source": [
    "spark.sql(\"SELECT sum(sum_total_amt) as 3_highest_total_amt FROM df7_3_table\").show()"
   ]
  },
  {
   "cell_type": "markdown",
   "metadata": {},
   "source": [
    "What can you intuitively infer from these findings?\n",
    "\n",
    "1. more number of tickets are occuring in between 8AM to 9 PM.\n",
    "2. 21,38 and 36 violation codes occurred more number times.\n",
    "3. But police department is getting more amount from 46,40 and 71 codes.    "
   ]
  },
  {
   "cell_type": "code",
   "execution_count": null,
   "metadata": {},
   "outputs": [],
   "source": []
  },
  {
   "cell_type": "code",
   "execution_count": 216,
   "metadata": {},
   "outputs": [],
   "source": [
    "spark.stop()"
   ]
  }
 ],
 "metadata": {
  "kernelspec": {
   "display_name": "Python 3",
   "language": "python",
   "name": "python3"
  },
  "language_info": {
   "codemirror_mode": {
    "name": "ipython",
    "version": 3
   },
   "file_extension": ".py",
   "mimetype": "text/x-python",
   "name": "python",
   "nbconvert_exporter": "python",
   "pygments_lexer": "ipython3",
   "version": "3.6.5"
  }
 },
 "nbformat": 4,
 "nbformat_minor": 2
}
